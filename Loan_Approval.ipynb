{
  "nbformat": 4,
  "nbformat_minor": 0,
  "metadata": {
    "colab": {
      "name": "Loan_Approval.ipynb",
      "provenance": []
    },
    "kernelspec": {
      "name": "python3",
      "display_name": "Python 3"
    },
    "accelerator": "GPU"
  },
  "cells": [
    {
      "cell_type": "markdown",
      "metadata": {
        "id": "mBd84kinVmW7"
      },
      "source": [
        "***Discovering the important features and Reducing investment risk***"
      ]
    },
    {
      "cell_type": "markdown",
      "metadata": {
        "id": "vgxkPh5kgJpb"
      },
      "source": [
        "My goal for this project was to reduce risk for investers when deciding if a client is worth the Investment/loan. The Data ws obtained from the lendingclub. "
      ]
    },
    {
      "cell_type": "code",
      "metadata": {
        "id": "a4NrRADY-YxI"
      },
      "source": [
        "import pandas as pd\n",
        "import numpy as np\n",
        "import matplotlib.pyplot as plt\n",
        "import seaborn as sns"
      ],
      "execution_count": null,
      "outputs": []
    },
    {
      "cell_type": "code",
      "metadata": {
        "id": "PbkIr0KhPhe7",
        "colab": {
          "base_uri": "https://localhost:8080/",
          "height": 948
        },
        "outputId": "84dd8110-3bd5-4f30-bcd4-0a24814fba97"
      },
      "source": [
        "#Load the Feature Descriptions \n",
        "data_info = pd.read_csv('/content/drive/My Drive/Colab Datasets/lending_club_info.csv', index_col= 'LoanStatNew')\n",
        "data_info"
      ],
      "execution_count": null,
      "outputs": [
        {
          "output_type": "execute_result",
          "data": {
            "text/html": [
              "<div>\n",
              "<style scoped>\n",
              "    .dataframe tbody tr th:only-of-type {\n",
              "        vertical-align: middle;\n",
              "    }\n",
              "\n",
              "    .dataframe tbody tr th {\n",
              "        vertical-align: top;\n",
              "    }\n",
              "\n",
              "    .dataframe thead th {\n",
              "        text-align: right;\n",
              "    }\n",
              "</style>\n",
              "<table border=\"1\" class=\"dataframe\">\n",
              "  <thead>\n",
              "    <tr style=\"text-align: right;\">\n",
              "      <th></th>\n",
              "      <th>Description</th>\n",
              "    </tr>\n",
              "    <tr>\n",
              "      <th>LoanStatNew</th>\n",
              "      <th></th>\n",
              "    </tr>\n",
              "  </thead>\n",
              "  <tbody>\n",
              "    <tr>\n",
              "      <th>loan_amnt</th>\n",
              "      <td>The listed amount of the loan applied for by t...</td>\n",
              "    </tr>\n",
              "    <tr>\n",
              "      <th>term</th>\n",
              "      <td>The number of payments on the loan. Values are...</td>\n",
              "    </tr>\n",
              "    <tr>\n",
              "      <th>int_rate</th>\n",
              "      <td>Interest Rate on the loan</td>\n",
              "    </tr>\n",
              "    <tr>\n",
              "      <th>installment</th>\n",
              "      <td>The monthly payment owed by the borrower if th...</td>\n",
              "    </tr>\n",
              "    <tr>\n",
              "      <th>grade</th>\n",
              "      <td>LC assigned loan grade</td>\n",
              "    </tr>\n",
              "    <tr>\n",
              "      <th>sub_grade</th>\n",
              "      <td>LC assigned loan subgrade</td>\n",
              "    </tr>\n",
              "    <tr>\n",
              "      <th>emp_title</th>\n",
              "      <td>The job title supplied by the Borrower when ap...</td>\n",
              "    </tr>\n",
              "    <tr>\n",
              "      <th>emp_length</th>\n",
              "      <td>Employment length in years. Possible values ar...</td>\n",
              "    </tr>\n",
              "    <tr>\n",
              "      <th>home_ownership</th>\n",
              "      <td>The home ownership status provided by the borr...</td>\n",
              "    </tr>\n",
              "    <tr>\n",
              "      <th>annual_inc</th>\n",
              "      <td>The self-reported annual income provided by th...</td>\n",
              "    </tr>\n",
              "    <tr>\n",
              "      <th>verification_status</th>\n",
              "      <td>Indicates if income was verified by LC, not ve...</td>\n",
              "    </tr>\n",
              "    <tr>\n",
              "      <th>issue_d</th>\n",
              "      <td>The month which the loan was funded</td>\n",
              "    </tr>\n",
              "    <tr>\n",
              "      <th>loan_status</th>\n",
              "      <td>Current status of the loan</td>\n",
              "    </tr>\n",
              "    <tr>\n",
              "      <th>purpose</th>\n",
              "      <td>A category provided by the borrower for the lo...</td>\n",
              "    </tr>\n",
              "    <tr>\n",
              "      <th>title</th>\n",
              "      <td>The loan title provided by the borrower</td>\n",
              "    </tr>\n",
              "    <tr>\n",
              "      <th>zip_code</th>\n",
              "      <td>The first 3 numbers of the zip code provided b...</td>\n",
              "    </tr>\n",
              "    <tr>\n",
              "      <th>addr_state</th>\n",
              "      <td>The state provided by the borrower in the loan...</td>\n",
              "    </tr>\n",
              "    <tr>\n",
              "      <th>dti</th>\n",
              "      <td>A ratio calculated using the borrower’s total ...</td>\n",
              "    </tr>\n",
              "    <tr>\n",
              "      <th>earliest_cr_line</th>\n",
              "      <td>The month the borrower's earliest reported cre...</td>\n",
              "    </tr>\n",
              "    <tr>\n",
              "      <th>open_acc</th>\n",
              "      <td>The number of open credit lines in the borrowe...</td>\n",
              "    </tr>\n",
              "    <tr>\n",
              "      <th>pub_rec</th>\n",
              "      <td>Number of derogatory public records</td>\n",
              "    </tr>\n",
              "    <tr>\n",
              "      <th>revol_bal</th>\n",
              "      <td>Total credit revolving balance</td>\n",
              "    </tr>\n",
              "    <tr>\n",
              "      <th>revol_util</th>\n",
              "      <td>Revolving line utilization rate, or the amount...</td>\n",
              "    </tr>\n",
              "    <tr>\n",
              "      <th>total_acc</th>\n",
              "      <td>The total number of credit lines currently in ...</td>\n",
              "    </tr>\n",
              "    <tr>\n",
              "      <th>initial_list_status</th>\n",
              "      <td>The initial listing status of the loan. Possib...</td>\n",
              "    </tr>\n",
              "    <tr>\n",
              "      <th>application_type</th>\n",
              "      <td>Indicates whether the loan is an individual ap...</td>\n",
              "    </tr>\n",
              "    <tr>\n",
              "      <th>mort_acc</th>\n",
              "      <td>Number of mortgage accounts.</td>\n",
              "    </tr>\n",
              "    <tr>\n",
              "      <th>pub_rec_bankruptcies</th>\n",
              "      <td>Number of public record bankruptcies</td>\n",
              "    </tr>\n",
              "  </tbody>\n",
              "</table>\n",
              "</div>"
            ],
            "text/plain": [
              "                                                            Description\n",
              "LoanStatNew                                                            \n",
              "loan_amnt             The listed amount of the loan applied for by t...\n",
              "term                  The number of payments on the loan. Values are...\n",
              "int_rate                                      Interest Rate on the loan\n",
              "installment           The monthly payment owed by the borrower if th...\n",
              "grade                                            LC assigned loan grade\n",
              "sub_grade                                     LC assigned loan subgrade\n",
              "emp_title             The job title supplied by the Borrower when ap...\n",
              "emp_length            Employment length in years. Possible values ar...\n",
              "home_ownership        The home ownership status provided by the borr...\n",
              "annual_inc            The self-reported annual income provided by th...\n",
              "verification_status   Indicates if income was verified by LC, not ve...\n",
              "issue_d                             The month which the loan was funded\n",
              "loan_status                                  Current status of the loan\n",
              "purpose               A category provided by the borrower for the lo...\n",
              "title                           The loan title provided by the borrower\n",
              "zip_code              The first 3 numbers of the zip code provided b...\n",
              "addr_state            The state provided by the borrower in the loan...\n",
              "dti                   A ratio calculated using the borrower’s total ...\n",
              "earliest_cr_line      The month the borrower's earliest reported cre...\n",
              "open_acc              The number of open credit lines in the borrowe...\n",
              "pub_rec                             Number of derogatory public records\n",
              "revol_bal                                Total credit revolving balance\n",
              "revol_util            Revolving line utilization rate, or the amount...\n",
              "total_acc             The total number of credit lines currently in ...\n",
              "initial_list_status   The initial listing status of the loan. Possib...\n",
              "application_type      Indicates whether the loan is an individual ap...\n",
              "mort_acc                                   Number of mortgage accounts.\n",
              "pub_rec_bankruptcies               Number of public record bankruptcies"
            ]
          },
          "metadata": {
            "tags": []
          },
          "execution_count": 3
        }
      ]
    },
    {
      "cell_type": "code",
      "metadata": {
        "id": "IKAEgcsjPryG"
      },
      "source": [
        "# Create a function that will allow us to define the features\n",
        "def feature_info(col_name):\n",
        "    print(data_info.loc[col_name]['Description'])"
      ],
      "execution_count": null,
      "outputs": []
    },
    {
      "cell_type": "code",
      "metadata": {
        "id": "0wz62JdwSqmo",
        "colab": {
          "base_uri": "https://localhost:8080/"
        },
        "outputId": "fc0884bc-a071-46e1-a70a-bdc81dadcfee"
      },
      "source": [
        "#Sanity Check\n",
        "feature_info('mort_acc')"
      ],
      "execution_count": null,
      "outputs": [
        {
          "output_type": "stream",
          "text": [
            "Number of mortgage accounts.\n"
          ],
          "name": "stdout"
        }
      ]
    },
    {
      "cell_type": "code",
      "metadata": {
        "id": "6-NMN4C1QUws",
        "colab": {
          "base_uri": "https://localhost:8080/",
          "height": 394
        },
        "outputId": "d0dbb8fb-1ed0-4744-a590-cd1366ba92d5"
      },
      "source": [
        "#Load the Data \n",
        "df = pd.read_csv('/content/drive/My Drive/Colab Datasets/lending_club_loan_two.csv')\n",
        "df.head()"
      ],
      "execution_count": null,
      "outputs": [
        {
          "output_type": "execute_result",
          "data": {
            "text/html": [
              "<div>\n",
              "<style scoped>\n",
              "    .dataframe tbody tr th:only-of-type {\n",
              "        vertical-align: middle;\n",
              "    }\n",
              "\n",
              "    .dataframe tbody tr th {\n",
              "        vertical-align: top;\n",
              "    }\n",
              "\n",
              "    .dataframe thead th {\n",
              "        text-align: right;\n",
              "    }\n",
              "</style>\n",
              "<table border=\"1\" class=\"dataframe\">\n",
              "  <thead>\n",
              "    <tr style=\"text-align: right;\">\n",
              "      <th></th>\n",
              "      <th>loan_amnt</th>\n",
              "      <th>term</th>\n",
              "      <th>int_rate</th>\n",
              "      <th>installment</th>\n",
              "      <th>grade</th>\n",
              "      <th>sub_grade</th>\n",
              "      <th>emp_title</th>\n",
              "      <th>emp_length</th>\n",
              "      <th>home_ownership</th>\n",
              "      <th>annual_inc</th>\n",
              "      <th>verification_status</th>\n",
              "      <th>issue_d</th>\n",
              "      <th>loan_status</th>\n",
              "      <th>purpose</th>\n",
              "      <th>title</th>\n",
              "      <th>dti</th>\n",
              "      <th>earliest_cr_line</th>\n",
              "      <th>open_acc</th>\n",
              "      <th>pub_rec</th>\n",
              "      <th>revol_bal</th>\n",
              "      <th>revol_util</th>\n",
              "      <th>total_acc</th>\n",
              "      <th>initial_list_status</th>\n",
              "      <th>application_type</th>\n",
              "      <th>mort_acc</th>\n",
              "      <th>pub_rec_bankruptcies</th>\n",
              "      <th>address</th>\n",
              "    </tr>\n",
              "  </thead>\n",
              "  <tbody>\n",
              "    <tr>\n",
              "      <th>0</th>\n",
              "      <td>10000.0</td>\n",
              "      <td>36 months</td>\n",
              "      <td>11.44</td>\n",
              "      <td>329.48</td>\n",
              "      <td>B</td>\n",
              "      <td>B4</td>\n",
              "      <td>Marketing</td>\n",
              "      <td>10+ years</td>\n",
              "      <td>RENT</td>\n",
              "      <td>117000.0</td>\n",
              "      <td>Not Verified</td>\n",
              "      <td>Jan-2015</td>\n",
              "      <td>Fully Paid</td>\n",
              "      <td>vacation</td>\n",
              "      <td>Vacation</td>\n",
              "      <td>26.24</td>\n",
              "      <td>Jun-1990</td>\n",
              "      <td>16.0</td>\n",
              "      <td>0.0</td>\n",
              "      <td>36369.0</td>\n",
              "      <td>41.8</td>\n",
              "      <td>25.0</td>\n",
              "      <td>w</td>\n",
              "      <td>INDIVIDUAL</td>\n",
              "      <td>0.0</td>\n",
              "      <td>0.0</td>\n",
              "      <td>0174 Michelle Gateway\\nMendozaberg, OK 22690</td>\n",
              "    </tr>\n",
              "    <tr>\n",
              "      <th>1</th>\n",
              "      <td>8000.0</td>\n",
              "      <td>36 months</td>\n",
              "      <td>11.99</td>\n",
              "      <td>265.68</td>\n",
              "      <td>B</td>\n",
              "      <td>B5</td>\n",
              "      <td>Credit analyst</td>\n",
              "      <td>4 years</td>\n",
              "      <td>MORTGAGE</td>\n",
              "      <td>65000.0</td>\n",
              "      <td>Not Verified</td>\n",
              "      <td>Jan-2015</td>\n",
              "      <td>Fully Paid</td>\n",
              "      <td>debt_consolidation</td>\n",
              "      <td>Debt consolidation</td>\n",
              "      <td>22.05</td>\n",
              "      <td>Jul-2004</td>\n",
              "      <td>17.0</td>\n",
              "      <td>0.0</td>\n",
              "      <td>20131.0</td>\n",
              "      <td>53.3</td>\n",
              "      <td>27.0</td>\n",
              "      <td>f</td>\n",
              "      <td>INDIVIDUAL</td>\n",
              "      <td>3.0</td>\n",
              "      <td>0.0</td>\n",
              "      <td>1076 Carney Fort Apt. 347\\nLoganmouth, SD 05113</td>\n",
              "    </tr>\n",
              "    <tr>\n",
              "      <th>2</th>\n",
              "      <td>15600.0</td>\n",
              "      <td>36 months</td>\n",
              "      <td>10.49</td>\n",
              "      <td>506.97</td>\n",
              "      <td>B</td>\n",
              "      <td>B3</td>\n",
              "      <td>Statistician</td>\n",
              "      <td>&lt; 1 year</td>\n",
              "      <td>RENT</td>\n",
              "      <td>43057.0</td>\n",
              "      <td>Source Verified</td>\n",
              "      <td>Jan-2015</td>\n",
              "      <td>Fully Paid</td>\n",
              "      <td>credit_card</td>\n",
              "      <td>Credit card refinancing</td>\n",
              "      <td>12.79</td>\n",
              "      <td>Aug-2007</td>\n",
              "      <td>13.0</td>\n",
              "      <td>0.0</td>\n",
              "      <td>11987.0</td>\n",
              "      <td>92.2</td>\n",
              "      <td>26.0</td>\n",
              "      <td>f</td>\n",
              "      <td>INDIVIDUAL</td>\n",
              "      <td>0.0</td>\n",
              "      <td>0.0</td>\n",
              "      <td>87025 Mark Dale Apt. 269\\nNew Sabrina, WV 05113</td>\n",
              "    </tr>\n",
              "    <tr>\n",
              "      <th>3</th>\n",
              "      <td>7200.0</td>\n",
              "      <td>36 months</td>\n",
              "      <td>6.49</td>\n",
              "      <td>220.65</td>\n",
              "      <td>A</td>\n",
              "      <td>A2</td>\n",
              "      <td>Client Advocate</td>\n",
              "      <td>6 years</td>\n",
              "      <td>RENT</td>\n",
              "      <td>54000.0</td>\n",
              "      <td>Not Verified</td>\n",
              "      <td>Nov-2014</td>\n",
              "      <td>Fully Paid</td>\n",
              "      <td>credit_card</td>\n",
              "      <td>Credit card refinancing</td>\n",
              "      <td>2.60</td>\n",
              "      <td>Sep-2006</td>\n",
              "      <td>6.0</td>\n",
              "      <td>0.0</td>\n",
              "      <td>5472.0</td>\n",
              "      <td>21.5</td>\n",
              "      <td>13.0</td>\n",
              "      <td>f</td>\n",
              "      <td>INDIVIDUAL</td>\n",
              "      <td>0.0</td>\n",
              "      <td>0.0</td>\n",
              "      <td>823 Reid Ford\\nDelacruzside, MA 00813</td>\n",
              "    </tr>\n",
              "    <tr>\n",
              "      <th>4</th>\n",
              "      <td>24375.0</td>\n",
              "      <td>60 months</td>\n",
              "      <td>17.27</td>\n",
              "      <td>609.33</td>\n",
              "      <td>C</td>\n",
              "      <td>C5</td>\n",
              "      <td>Destiny Management Inc.</td>\n",
              "      <td>9 years</td>\n",
              "      <td>MORTGAGE</td>\n",
              "      <td>55000.0</td>\n",
              "      <td>Verified</td>\n",
              "      <td>Apr-2013</td>\n",
              "      <td>Charged Off</td>\n",
              "      <td>credit_card</td>\n",
              "      <td>Credit Card Refinance</td>\n",
              "      <td>33.95</td>\n",
              "      <td>Mar-1999</td>\n",
              "      <td>13.0</td>\n",
              "      <td>0.0</td>\n",
              "      <td>24584.0</td>\n",
              "      <td>69.8</td>\n",
              "      <td>43.0</td>\n",
              "      <td>f</td>\n",
              "      <td>INDIVIDUAL</td>\n",
              "      <td>1.0</td>\n",
              "      <td>0.0</td>\n",
              "      <td>679 Luna Roads\\nGreggshire, VA 11650</td>\n",
              "    </tr>\n",
              "  </tbody>\n",
              "</table>\n",
              "</div>"
            ],
            "text/plain": [
              "   loan_amnt  ...                                          address\n",
              "0    10000.0  ...     0174 Michelle Gateway\\nMendozaberg, OK 22690\n",
              "1     8000.0  ...  1076 Carney Fort Apt. 347\\nLoganmouth, SD 05113\n",
              "2    15600.0  ...  87025 Mark Dale Apt. 269\\nNew Sabrina, WV 05113\n",
              "3     7200.0  ...            823 Reid Ford\\nDelacruzside, MA 00813\n",
              "4    24375.0  ...             679 Luna Roads\\nGreggshire, VA 11650\n",
              "\n",
              "[5 rows x 27 columns]"
            ]
          },
          "metadata": {
            "tags": []
          },
          "execution_count": 6
        }
      ]
    },
    {
      "cell_type": "markdown",
      "metadata": {
        "id": "mfzFudQog7R0"
      },
      "source": [
        "Exploratory Data Analysis \n",
        "Understand the importance of each variable, summary statistics and Visualizations"
      ]
    },
    {
      "cell_type": "code",
      "metadata": {
        "id": "XQvGjUKrQafa",
        "colab": {
          "base_uri": "https://localhost:8080/"
        },
        "outputId": "8575207c-42c7-4556-d044-8f3b0b79f3e4"
      },
      "source": [
        "df.info()"
      ],
      "execution_count": null,
      "outputs": [
        {
          "output_type": "stream",
          "text": [
            "<class 'pandas.core.frame.DataFrame'>\n",
            "RangeIndex: 396030 entries, 0 to 396029\n",
            "Data columns (total 27 columns):\n",
            " #   Column                Non-Null Count   Dtype  \n",
            "---  ------                --------------   -----  \n",
            " 0   loan_amnt             396030 non-null  float64\n",
            " 1   term                  396030 non-null  object \n",
            " 2   int_rate              396030 non-null  float64\n",
            " 3   installment           396030 non-null  float64\n",
            " 4   grade                 396030 non-null  object \n",
            " 5   sub_grade             396030 non-null  object \n",
            " 6   emp_title             373103 non-null  object \n",
            " 7   emp_length            377729 non-null  object \n",
            " 8   home_ownership        396030 non-null  object \n",
            " 9   annual_inc            396030 non-null  float64\n",
            " 10  verification_status   396030 non-null  object \n",
            " 11  issue_d               396030 non-null  object \n",
            " 12  loan_status           396030 non-null  object \n",
            " 13  purpose               396030 non-null  object \n",
            " 14  title                 394275 non-null  object \n",
            " 15  dti                   396030 non-null  float64\n",
            " 16  earliest_cr_line      396030 non-null  object \n",
            " 17  open_acc              396030 non-null  float64\n",
            " 18  pub_rec               396030 non-null  float64\n",
            " 19  revol_bal             396030 non-null  float64\n",
            " 20  revol_util            395754 non-null  float64\n",
            " 21  total_acc             396030 non-null  float64\n",
            " 22  initial_list_status   396030 non-null  object \n",
            " 23  application_type      396030 non-null  object \n",
            " 24  mort_acc              358235 non-null  float64\n",
            " 25  pub_rec_bankruptcies  395495 non-null  float64\n",
            " 26  address               396030 non-null  object \n",
            "dtypes: float64(12), object(15)\n",
            "memory usage: 81.6+ MB\n"
          ],
          "name": "stdout"
        }
      ]
    },
    {
      "cell_type": "code",
      "metadata": {
        "id": "ro_HjnyA26vn",
        "colab": {
          "base_uri": "https://localhost:8080/",
          "height": 317
        },
        "outputId": "fc1e53fd-dc5a-4939-f713-8d2501c6e26a"
      },
      "source": [
        "df.describe()"
      ],
      "execution_count": null,
      "outputs": [
        {
          "output_type": "execute_result",
          "data": {
            "text/html": [
              "<div>\n",
              "<style scoped>\n",
              "    .dataframe tbody tr th:only-of-type {\n",
              "        vertical-align: middle;\n",
              "    }\n",
              "\n",
              "    .dataframe tbody tr th {\n",
              "        vertical-align: top;\n",
              "    }\n",
              "\n",
              "    .dataframe thead th {\n",
              "        text-align: right;\n",
              "    }\n",
              "</style>\n",
              "<table border=\"1\" class=\"dataframe\">\n",
              "  <thead>\n",
              "    <tr style=\"text-align: right;\">\n",
              "      <th></th>\n",
              "      <th>loan_amnt</th>\n",
              "      <th>int_rate</th>\n",
              "      <th>installment</th>\n",
              "      <th>annual_inc</th>\n",
              "      <th>dti</th>\n",
              "      <th>open_acc</th>\n",
              "      <th>pub_rec</th>\n",
              "      <th>revol_bal</th>\n",
              "      <th>revol_util</th>\n",
              "      <th>total_acc</th>\n",
              "      <th>mort_acc</th>\n",
              "      <th>pub_rec_bankruptcies</th>\n",
              "    </tr>\n",
              "  </thead>\n",
              "  <tbody>\n",
              "    <tr>\n",
              "      <th>count</th>\n",
              "      <td>396030.000000</td>\n",
              "      <td>396030.000000</td>\n",
              "      <td>396030.000000</td>\n",
              "      <td>3.960300e+05</td>\n",
              "      <td>396030.000000</td>\n",
              "      <td>396030.000000</td>\n",
              "      <td>396030.000000</td>\n",
              "      <td>3.960300e+05</td>\n",
              "      <td>395754.000000</td>\n",
              "      <td>396030.000000</td>\n",
              "      <td>358235.000000</td>\n",
              "      <td>395495.000000</td>\n",
              "    </tr>\n",
              "    <tr>\n",
              "      <th>mean</th>\n",
              "      <td>14113.888089</td>\n",
              "      <td>13.639400</td>\n",
              "      <td>431.849698</td>\n",
              "      <td>7.420318e+04</td>\n",
              "      <td>17.379514</td>\n",
              "      <td>11.311153</td>\n",
              "      <td>0.178191</td>\n",
              "      <td>1.584454e+04</td>\n",
              "      <td>53.791749</td>\n",
              "      <td>25.414744</td>\n",
              "      <td>1.813991</td>\n",
              "      <td>0.121648</td>\n",
              "    </tr>\n",
              "    <tr>\n",
              "      <th>std</th>\n",
              "      <td>8357.441341</td>\n",
              "      <td>4.472157</td>\n",
              "      <td>250.727790</td>\n",
              "      <td>6.163762e+04</td>\n",
              "      <td>18.019092</td>\n",
              "      <td>5.137649</td>\n",
              "      <td>0.530671</td>\n",
              "      <td>2.059184e+04</td>\n",
              "      <td>24.452193</td>\n",
              "      <td>11.886991</td>\n",
              "      <td>2.147930</td>\n",
              "      <td>0.356174</td>\n",
              "    </tr>\n",
              "    <tr>\n",
              "      <th>min</th>\n",
              "      <td>500.000000</td>\n",
              "      <td>5.320000</td>\n",
              "      <td>16.080000</td>\n",
              "      <td>0.000000e+00</td>\n",
              "      <td>0.000000</td>\n",
              "      <td>0.000000</td>\n",
              "      <td>0.000000</td>\n",
              "      <td>0.000000e+00</td>\n",
              "      <td>0.000000</td>\n",
              "      <td>2.000000</td>\n",
              "      <td>0.000000</td>\n",
              "      <td>0.000000</td>\n",
              "    </tr>\n",
              "    <tr>\n",
              "      <th>25%</th>\n",
              "      <td>8000.000000</td>\n",
              "      <td>10.490000</td>\n",
              "      <td>250.330000</td>\n",
              "      <td>4.500000e+04</td>\n",
              "      <td>11.280000</td>\n",
              "      <td>8.000000</td>\n",
              "      <td>0.000000</td>\n",
              "      <td>6.025000e+03</td>\n",
              "      <td>35.800000</td>\n",
              "      <td>17.000000</td>\n",
              "      <td>0.000000</td>\n",
              "      <td>0.000000</td>\n",
              "    </tr>\n",
              "    <tr>\n",
              "      <th>50%</th>\n",
              "      <td>12000.000000</td>\n",
              "      <td>13.330000</td>\n",
              "      <td>375.430000</td>\n",
              "      <td>6.400000e+04</td>\n",
              "      <td>16.910000</td>\n",
              "      <td>10.000000</td>\n",
              "      <td>0.000000</td>\n",
              "      <td>1.118100e+04</td>\n",
              "      <td>54.800000</td>\n",
              "      <td>24.000000</td>\n",
              "      <td>1.000000</td>\n",
              "      <td>0.000000</td>\n",
              "    </tr>\n",
              "    <tr>\n",
              "      <th>75%</th>\n",
              "      <td>20000.000000</td>\n",
              "      <td>16.490000</td>\n",
              "      <td>567.300000</td>\n",
              "      <td>9.000000e+04</td>\n",
              "      <td>22.980000</td>\n",
              "      <td>14.000000</td>\n",
              "      <td>0.000000</td>\n",
              "      <td>1.962000e+04</td>\n",
              "      <td>72.900000</td>\n",
              "      <td>32.000000</td>\n",
              "      <td>3.000000</td>\n",
              "      <td>0.000000</td>\n",
              "    </tr>\n",
              "    <tr>\n",
              "      <th>max</th>\n",
              "      <td>40000.000000</td>\n",
              "      <td>30.990000</td>\n",
              "      <td>1533.810000</td>\n",
              "      <td>8.706582e+06</td>\n",
              "      <td>9999.000000</td>\n",
              "      <td>90.000000</td>\n",
              "      <td>86.000000</td>\n",
              "      <td>1.743266e+06</td>\n",
              "      <td>892.300000</td>\n",
              "      <td>151.000000</td>\n",
              "      <td>34.000000</td>\n",
              "      <td>8.000000</td>\n",
              "    </tr>\n",
              "  </tbody>\n",
              "</table>\n",
              "</div>"
            ],
            "text/plain": [
              "           loan_amnt       int_rate  ...       mort_acc  pub_rec_bankruptcies\n",
              "count  396030.000000  396030.000000  ...  358235.000000         395495.000000\n",
              "mean    14113.888089      13.639400  ...       1.813991              0.121648\n",
              "std      8357.441341       4.472157  ...       2.147930              0.356174\n",
              "min       500.000000       5.320000  ...       0.000000              0.000000\n",
              "25%      8000.000000      10.490000  ...       0.000000              0.000000\n",
              "50%     12000.000000      13.330000  ...       1.000000              0.000000\n",
              "75%     20000.000000      16.490000  ...       3.000000              0.000000\n",
              "max     40000.000000      30.990000  ...      34.000000              8.000000\n",
              "\n",
              "[8 rows x 12 columns]"
            ]
          },
          "metadata": {
            "tags": []
          },
          "execution_count": 8
        }
      ]
    },
    {
      "cell_type": "markdown",
      "metadata": {
        "id": "AaoJ02bUHNFQ"
      },
      "source": [
        "**Exploratory Data Analysis** \n",
        "\n",
        "Goal: Get an understanding of the Data "
      ]
    },
    {
      "cell_type": "code",
      "metadata": {
        "id": "UEFglQmgHfhe",
        "colab": {
          "base_uri": "https://localhost:8080/",
          "height": 280
        },
        "outputId": "e7140385-78b8-413a-c10c-74e4db288b03"
      },
      "source": [
        "sns.countplot(x = df['loan_status'])\n",
        "plt.show()"
      ],
      "execution_count": null,
      "outputs": [
        {
          "output_type": "display_data",
          "data": {
            "image/png": "[encoded data removed]",
            "text/plain": [
              "<Figure size 432x288 with 1 Axes>"
            ]
          },
          "metadata": {
            "tags": [],
            "needs_background": "light"
          }
        }
      ]
    },
    {
      "cell_type": "code",
      "metadata": {
        "id": "PELjuoWdj4aO",
        "colab": {
          "base_uri": "https://localhost:8080/",
          "height": 385
        },
        "outputId": "3261acde-1a1d-44b8-87bb-7cfee804a356"
      },
      "source": [
        "\n",
        "sns.displot(df['loan_amnt'],kind = \"hist\",bins = 40)\n",
        "plt.title('Distribution of Loan Amount')\n",
        "plt.show()"
      ],
      "execution_count": null,
      "outputs": [
        {
          "output_type": "display_data",
          "data": {
            "image/png": "[encoded data removed]",
            "text/plain": [
              "<Figure size 360x360 with 1 Axes>"
            ]
          },
          "metadata": {
            "tags": [],
            "needs_background": "light"
          }
        }
      ]
    },
    {
      "cell_type": "code",
      "metadata": {
        "id": "9_YM2vp9IO0m",
        "colab": {
          "base_uri": "https://localhost:8080/",
          "height": 280
        },
        "outputId": "94289785-c6ec-4d39-a9b9-96ac9ef4a267"
      },
      "source": [
        "sns.histplot(x = df['loan_amnt'], \n",
        "             hue = df['loan_status'],\n",
        "             bins = 20, multiple = 'stack' )\n",
        "plt.show()"
      ],
      "execution_count": null,
      "outputs": [
        {
          "output_type": "display_data",
          "data": {
            "image/png": "[encoded data removed]",
            "text/plain": [
              "<Figure size 432x288 with 1 Axes>"
            ]
          },
          "metadata": {
            "tags": [],
            "needs_background": "light"
          }
        }
      ]
    },
    {
      "cell_type": "code",
      "metadata": {
        "id": "mJzwKW54JJjk",
        "colab": {
          "base_uri": "https://localhost:8080/",
          "height": 441
        },
        "outputId": "1e2867ab-72bf-464c-d447-3b79e52858ce"
      },
      "source": [
        "df.corr()"
      ],
      "execution_count": null,
      "outputs": [
        {
          "output_type": "execute_result",
          "data": {
            "text/html": [
              "<div>\n",
              "<style scoped>\n",
              "    .dataframe tbody tr th:only-of-type {\n",
              "        vertical-align: middle;\n",
              "    }\n",
              "\n",
              "    .dataframe tbody tr th {\n",
              "        vertical-align: top;\n",
              "    }\n",
              "\n",
              "    .dataframe thead th {\n",
              "        text-align: right;\n",
              "    }\n",
              "</style>\n",
              "<table border=\"1\" class=\"dataframe\">\n",
              "  <thead>\n",
              "    <tr style=\"text-align: right;\">\n",
              "      <th></th>\n",
              "      <th>loan_amnt</th>\n",
              "      <th>int_rate</th>\n",
              "      <th>installment</th>\n",
              "      <th>annual_inc</th>\n",
              "      <th>dti</th>\n",
              "      <th>open_acc</th>\n",
              "      <th>pub_rec</th>\n",
              "      <th>revol_bal</th>\n",
              "      <th>revol_util</th>\n",
              "      <th>total_acc</th>\n",
              "      <th>mort_acc</th>\n",
              "      <th>pub_rec_bankruptcies</th>\n",
              "    </tr>\n",
              "  </thead>\n",
              "  <tbody>\n",
              "    <tr>\n",
              "      <th>loan_amnt</th>\n",
              "      <td>1.000000</td>\n",
              "      <td>0.168921</td>\n",
              "      <td>0.953929</td>\n",
              "      <td>0.336887</td>\n",
              "      <td>0.016636</td>\n",
              "      <td>0.198556</td>\n",
              "      <td>-0.077779</td>\n",
              "      <td>0.328320</td>\n",
              "      <td>0.099911</td>\n",
              "      <td>0.223886</td>\n",
              "      <td>0.222315</td>\n",
              "      <td>-0.106539</td>\n",
              "    </tr>\n",
              "    <tr>\n",
              "      <th>int_rate</th>\n",
              "      <td>0.168921</td>\n",
              "      <td>1.000000</td>\n",
              "      <td>0.162758</td>\n",
              "      <td>-0.056771</td>\n",
              "      <td>0.079038</td>\n",
              "      <td>0.011649</td>\n",
              "      <td>0.060986</td>\n",
              "      <td>-0.011280</td>\n",
              "      <td>0.293659</td>\n",
              "      <td>-0.036404</td>\n",
              "      <td>-0.082583</td>\n",
              "      <td>0.057450</td>\n",
              "    </tr>\n",
              "    <tr>\n",
              "      <th>installment</th>\n",
              "      <td>0.953929</td>\n",
              "      <td>0.162758</td>\n",
              "      <td>1.000000</td>\n",
              "      <td>0.330381</td>\n",
              "      <td>0.015786</td>\n",
              "      <td>0.188973</td>\n",
              "      <td>-0.067892</td>\n",
              "      <td>0.316455</td>\n",
              "      <td>0.123915</td>\n",
              "      <td>0.202430</td>\n",
              "      <td>0.193694</td>\n",
              "      <td>-0.098628</td>\n",
              "    </tr>\n",
              "    <tr>\n",
              "      <th>annual_inc</th>\n",
              "      <td>0.336887</td>\n",
              "      <td>-0.056771</td>\n",
              "      <td>0.330381</td>\n",
              "      <td>1.000000</td>\n",
              "      <td>-0.081685</td>\n",
              "      <td>0.136150</td>\n",
              "      <td>-0.013720</td>\n",
              "      <td>0.299773</td>\n",
              "      <td>0.027871</td>\n",
              "      <td>0.193023</td>\n",
              "      <td>0.236320</td>\n",
              "      <td>-0.050162</td>\n",
              "    </tr>\n",
              "    <tr>\n",
              "      <th>dti</th>\n",
              "      <td>0.016636</td>\n",
              "      <td>0.079038</td>\n",
              "      <td>0.015786</td>\n",
              "      <td>-0.081685</td>\n",
              "      <td>1.000000</td>\n",
              "      <td>0.136181</td>\n",
              "      <td>-0.017639</td>\n",
              "      <td>0.063571</td>\n",
              "      <td>0.088375</td>\n",
              "      <td>0.102128</td>\n",
              "      <td>-0.025439</td>\n",
              "      <td>-0.014558</td>\n",
              "    </tr>\n",
              "    <tr>\n",
              "      <th>open_acc</th>\n",
              "      <td>0.198556</td>\n",
              "      <td>0.011649</td>\n",
              "      <td>0.188973</td>\n",
              "      <td>0.136150</td>\n",
              "      <td>0.136181</td>\n",
              "      <td>1.000000</td>\n",
              "      <td>-0.018392</td>\n",
              "      <td>0.221192</td>\n",
              "      <td>-0.131420</td>\n",
              "      <td>0.680728</td>\n",
              "      <td>0.109205</td>\n",
              "      <td>-0.027732</td>\n",
              "    </tr>\n",
              "    <tr>\n",
              "      <th>pub_rec</th>\n",
              "      <td>-0.077779</td>\n",
              "      <td>0.060986</td>\n",
              "      <td>-0.067892</td>\n",
              "      <td>-0.013720</td>\n",
              "      <td>-0.017639</td>\n",
              "      <td>-0.018392</td>\n",
              "      <td>1.000000</td>\n",
              "      <td>-0.101664</td>\n",
              "      <td>-0.075910</td>\n",
              "      <td>0.019723</td>\n",
              "      <td>0.011552</td>\n",
              "      <td>0.699408</td>\n",
              "    </tr>\n",
              "    <tr>\n",
              "      <th>revol_bal</th>\n",
              "      <td>0.328320</td>\n",
              "      <td>-0.011280</td>\n",
              "      <td>0.316455</td>\n",
              "      <td>0.299773</td>\n",
              "      <td>0.063571</td>\n",
              "      <td>0.221192</td>\n",
              "      <td>-0.101664</td>\n",
              "      <td>1.000000</td>\n",
              "      <td>0.226346</td>\n",
              "      <td>0.191616</td>\n",
              "      <td>0.194925</td>\n",
              "      <td>-0.124532</td>\n",
              "    </tr>\n",
              "    <tr>\n",
              "      <th>revol_util</th>\n",
              "      <td>0.099911</td>\n",
              "      <td>0.293659</td>\n",
              "      <td>0.123915</td>\n",
              "      <td>0.027871</td>\n",
              "      <td>0.088375</td>\n",
              "      <td>-0.131420</td>\n",
              "      <td>-0.075910</td>\n",
              "      <td>0.226346</td>\n",
              "      <td>1.000000</td>\n",
              "      <td>-0.104273</td>\n",
              "      <td>0.007514</td>\n",
              "      <td>-0.086751</td>\n",
              "    </tr>\n",
              "    <tr>\n",
              "      <th>total_acc</th>\n",
              "      <td>0.223886</td>\n",
              "      <td>-0.036404</td>\n",
              "      <td>0.202430</td>\n",
              "      <td>0.193023</td>\n",
              "      <td>0.102128</td>\n",
              "      <td>0.680728</td>\n",
              "      <td>0.019723</td>\n",
              "      <td>0.191616</td>\n",
              "      <td>-0.104273</td>\n",
              "      <td>1.000000</td>\n",
              "      <td>0.381072</td>\n",
              "      <td>0.042035</td>\n",
              "    </tr>\n",
              "    <tr>\n",
              "      <th>mort_acc</th>\n",
              "      <td>0.222315</td>\n",
              "      <td>-0.082583</td>\n",
              "      <td>0.193694</td>\n",
              "      <td>0.236320</td>\n",
              "      <td>-0.025439</td>\n",
              "      <td>0.109205</td>\n",
              "      <td>0.011552</td>\n",
              "      <td>0.194925</td>\n",
              "      <td>0.007514</td>\n",
              "      <td>0.381072</td>\n",
              "      <td>1.000000</td>\n",
              "      <td>0.027239</td>\n",
              "    </tr>\n",
              "    <tr>\n",
              "      <th>pub_rec_bankruptcies</th>\n",
              "      <td>-0.106539</td>\n",
              "      <td>0.057450</td>\n",
              "      <td>-0.098628</td>\n",
              "      <td>-0.050162</td>\n",
              "      <td>-0.014558</td>\n",
              "      <td>-0.027732</td>\n",
              "      <td>0.699408</td>\n",
              "      <td>-0.124532</td>\n",
              "      <td>-0.086751</td>\n",
              "      <td>0.042035</td>\n",
              "      <td>0.027239</td>\n",
              "      <td>1.000000</td>\n",
              "    </tr>\n",
              "  </tbody>\n",
              "</table>\n",
              "</div>"
            ],
            "text/plain": [
              "                      loan_amnt  int_rate  ...  mort_acc  pub_rec_bankruptcies\n",
              "loan_amnt              1.000000  0.168921  ...  0.222315             -0.106539\n",
              "int_rate               0.168921  1.000000  ... -0.082583              0.057450\n",
              "installment            0.953929  0.162758  ...  0.193694             -0.098628\n",
              "annual_inc             0.336887 -0.056771  ...  0.236320             -0.050162\n",
              "dti                    0.016636  0.079038  ... -0.025439             -0.014558\n",
              "open_acc               0.198556  0.011649  ...  0.109205             -0.027732\n",
              "pub_rec               -0.077779  0.060986  ...  0.011552              0.699408\n",
              "revol_bal              0.328320 -0.011280  ...  0.194925             -0.124532\n",
              "revol_util             0.099911  0.293659  ...  0.007514             -0.086751\n",
              "total_acc              0.223886 -0.036404  ...  0.381072              0.042035\n",
              "mort_acc               0.222315 -0.082583  ...  1.000000              0.027239\n",
              "pub_rec_bankruptcies  -0.106539  0.057450  ...  0.027239              1.000000\n",
              "\n",
              "[12 rows x 12 columns]"
            ]
          },
          "metadata": {
            "tags": []
          },
          "execution_count": 12
        }
      ]
    },
    {
      "cell_type": "code",
      "metadata": {
        "id": "fcekuZXMLzBg",
        "colab": {
          "base_uri": "https://localhost:8080/",
          "height": 421
        },
        "outputId": "377d91de-eaca-4bbd-eb86-3c18e13f535e"
      },
      "source": [
        "plt.figure(figsize=(15,8))\n",
        "sns.heatmap(df.corr(),annot=True,cmap='inferno')\n",
        "plt.show()"
      ],
      "execution_count": null,
      "outputs": [
        {
          "output_type": "display_data",
          "data": {
            "image/png": "[encoded data removed]",
            "text/plain": [
              "<Figure size 1080x576 with 2 Axes>"
            ]
          },
          "metadata": {
            "tags": [],
            "needs_background": "light"
          }
        }
      ]
    },
    {
      "cell_type": "markdown",
      "metadata": {
        "id": "E4iGTszzqunk"
      },
      "source": [
        "Installment and Loan amount has almost perfect correlation so lets visualize the Features"
      ]
    },
    {
      "cell_type": "code",
      "metadata": {
        "id": "3ZSdvUZBL_Rl",
        "colab": {
          "base_uri": "https://localhost:8080/",
          "height": 279
        },
        "outputId": "99da67c4-4493-42e3-f4f1-730c64ff437d"
      },
      "source": [
        "sns.scatterplot(x='installment', y='loan_amnt',hue= df.loan_status, data = df)\n",
        "plt.show()"
      ],
      "execution_count": null,
      "outputs": [
        {
          "output_type": "display_data",
          "data": {
            "image/png": "[encoded data removed]",
            "text/plain": [
              "<Figure size 432x288 with 1 Axes>"
            ]
          },
          "metadata": {
            "tags": [],
            "needs_background": "light"
          }
        }
      ]
    },
    {
      "cell_type": "code",
      "metadata": {
        "id": "uiU8LOJyq-vT",
        "colab": {
          "base_uri": "https://localhost:8080/",
          "height": 280
        },
        "outputId": "05946d87-5207-4072-9010-7737985ca620"
      },
      "source": [
        "sns.boxplot(x='loan_status', y='loan_amnt', data = df)\n",
        "plt.show()"
      ],
      "execution_count": null,
      "outputs": [
        {
          "output_type": "display_data",
          "data": {
            "image/png": "[encoded data removed]",
            "text/plain": [
              "<Figure size 432x288 with 1 Axes>"
            ]
          },
          "metadata": {
            "tags": [],
            "needs_background": "light"
          }
        }
      ]
    },
    {
      "cell_type": "code",
      "metadata": {
        "id": "Wtpzd--8rKW4",
        "colab": {
          "base_uri": "https://localhost:8080/",
          "height": 162
        },
        "outputId": "2239f520-1c7c-4745-c2db-be37c1eddf0c"
      },
      "source": [
        "df['loan_amnt'].groupby(df['loan_status']).describe()"
      ],
      "execution_count": null,
      "outputs": [
        {
          "output_type": "execute_result",
          "data": {
            "text/html": [
              "<div>\n",
              "<style scoped>\n",
              "    .dataframe tbody tr th:only-of-type {\n",
              "        vertical-align: middle;\n",
              "    }\n",
              "\n",
              "    .dataframe tbody tr th {\n",
              "        vertical-align: top;\n",
              "    }\n",
              "\n",
              "    .dataframe thead th {\n",
              "        text-align: right;\n",
              "    }\n",
              "</style>\n",
              "<table border=\"1\" class=\"dataframe\">\n",
              "  <thead>\n",
              "    <tr style=\"text-align: right;\">\n",
              "      <th></th>\n",
              "      <th>count</th>\n",
              "      <th>mean</th>\n",
              "      <th>std</th>\n",
              "      <th>min</th>\n",
              "      <th>25%</th>\n",
              "      <th>50%</th>\n",
              "      <th>75%</th>\n",
              "      <th>max</th>\n",
              "    </tr>\n",
              "    <tr>\n",
              "      <th>loan_status</th>\n",
              "      <th></th>\n",
              "      <th></th>\n",
              "      <th></th>\n",
              "      <th></th>\n",
              "      <th></th>\n",
              "      <th></th>\n",
              "      <th></th>\n",
              "      <th></th>\n",
              "    </tr>\n",
              "  </thead>\n",
              "  <tbody>\n",
              "    <tr>\n",
              "      <th>Charged Off</th>\n",
              "      <td>77673.0</td>\n",
              "      <td>15126.300967</td>\n",
              "      <td>8505.090557</td>\n",
              "      <td>1000.0</td>\n",
              "      <td>8525.0</td>\n",
              "      <td>14000.0</td>\n",
              "      <td>20000.0</td>\n",
              "      <td>40000.0</td>\n",
              "    </tr>\n",
              "    <tr>\n",
              "      <th>Fully Paid</th>\n",
              "      <td>318357.0</td>\n",
              "      <td>13866.878771</td>\n",
              "      <td>8302.319699</td>\n",
              "      <td>500.0</td>\n",
              "      <td>7500.0</td>\n",
              "      <td>12000.0</td>\n",
              "      <td>19225.0</td>\n",
              "      <td>40000.0</td>\n",
              "    </tr>\n",
              "  </tbody>\n",
              "</table>\n",
              "</div>"
            ],
            "text/plain": [
              "                count          mean          std  ...      50%      75%      max\n",
              "loan_status                                       ...                           \n",
              "Charged Off   77673.0  15126.300967  8505.090557  ...  14000.0  20000.0  40000.0\n",
              "Fully Paid   318357.0  13866.878771  8302.319699  ...  12000.0  19225.0  40000.0\n",
              "\n",
              "[2 rows x 8 columns]"
            ]
          },
          "metadata": {
            "tags": []
          },
          "execution_count": 16
        }
      ]
    },
    {
      "cell_type": "code",
      "metadata": {
        "id": "c_3zYEGGuKlz",
        "colab": {
          "base_uri": "https://localhost:8080/"
        },
        "outputId": "c0e083ce-95fa-4617-fd5f-50c89dae23d0"
      },
      "source": [
        "sorted(df['sub_grade'].unique())"
      ],
      "execution_count": null,
      "outputs": [
        {
          "output_type": "execute_result",
          "data": {
            "text/plain": [
              "['A1',\n",
              " 'A2',\n",
              " 'A3',\n",
              " 'A4',\n",
              " 'A5',\n",
              " 'B1',\n",
              " 'B2',\n",
              " 'B3',\n",
              " 'B4',\n",
              " 'B5',\n",
              " 'C1',\n",
              " 'C2',\n",
              " 'C3',\n",
              " 'C4',\n",
              " 'C5',\n",
              " 'D1',\n",
              " 'D2',\n",
              " 'D3',\n",
              " 'D4',\n",
              " 'D5',\n",
              " 'E1',\n",
              " 'E2',\n",
              " 'E3',\n",
              " 'E4',\n",
              " 'E5',\n",
              " 'F1',\n",
              " 'F2',\n",
              " 'F3',\n",
              " 'F4',\n",
              " 'F5',\n",
              " 'G1',\n",
              " 'G2',\n",
              " 'G3',\n",
              " 'G4',\n",
              " 'G5']"
            ]
          },
          "metadata": {
            "tags": []
          },
          "execution_count": 17
        }
      ]
    },
    {
      "cell_type": "code",
      "metadata": {
        "id": "N2eGBXTFuabi",
        "colab": {
          "base_uri": "https://localhost:8080/"
        },
        "outputId": "18e8c2e3-9632-48be-b5b8-0f28f02bda3e"
      },
      "source": [
        "sorted(df['grade'].unique())"
      ],
      "execution_count": null,
      "outputs": [
        {
          "output_type": "execute_result",
          "data": {
            "text/plain": [
              "['A', 'B', 'C', 'D', 'E', 'F', 'G']"
            ]
          },
          "metadata": {
            "tags": []
          },
          "execution_count": 18
        }
      ]
    },
    {
      "cell_type": "code",
      "metadata": {
        "id": "9HtcN_l6ujx7",
        "colab": {
          "base_uri": "https://localhost:8080/",
          "height": 279
        },
        "outputId": "2acf90d2-8af9-46e2-974e-d1a5523d25b3"
      },
      "source": [
        "sns.countplot(x='grade',data=df, hue='loan_status',palette='flare')\n",
        "plt.show()"
      ],
      "execution_count": null,
      "outputs": [
        {
          "output_type": "display_data",
          "data": {
            "image/png": "[encoded data removed]",
            "text/plain": [
              "<Figure size 432x288 with 1 Axes>"
            ]
          },
          "metadata": {
            "tags": [],
            "needs_background": "light"
          }
        }
      ]
    },
    {
      "cell_type": "code",
      "metadata": {
        "id": "UuopdyuhvxNc",
        "colab": {
          "base_uri": "https://localhost:8080/",
          "height": 289
        },
        "outputId": "465206fc-f955-4304-c22c-6d93bc630201"
      },
      "source": [
        "plt.figure(figsize=(12,5))\n",
        "grade_sort = sorted(df['sub_grade'].unique())\n",
        "sns.countplot(x='sub_grade', data=df, order=grade_sort,palette= 'BuPu_r')\n",
        "plt.show()"
      ],
      "execution_count": null,
      "outputs": [
        {
          "output_type": "display_data",
          "data": {
            "image/png": "[encoded data removed]",
            "text/plain": [
              "<Figure size 864x360 with 1 Axes>"
            ]
          },
          "metadata": {
            "tags": [],
            "needs_background": "light"
          }
        }
      ]
    },
    {
      "cell_type": "code",
      "metadata": {
        "id": "8XohHJ4qwQIc",
        "colab": {
          "base_uri": "https://localhost:8080/",
          "height": 289
        },
        "outputId": "9b63e823-ba7a-47e1-dba5-b38316bb9cf6"
      },
      "source": [
        "plt.figure(figsize=(12,5))\n",
        "grade_sort = sorted(df['sub_grade'].unique())\n",
        "sns.countplot(x='sub_grade', hue='loan_status', data=df, order=grade_sort)\n",
        "plt.show()"
      ],
      "execution_count": null,
      "outputs": [
        {
          "output_type": "display_data",
          "data": {
            "image/png": "[encoded data removed]",
            "text/plain": [
              "<Figure size 864x360 with 1 Axes>"
            ]
          },
          "metadata": {
            "tags": [],
            "needs_background": "light"
          }
        }
      ]
    },
    {
      "cell_type": "code",
      "metadata": {
        "id": "2Er6fR9Jw7YM",
        "colab": {
          "base_uri": "https://localhost:8080/",
          "height": 291
        },
        "outputId": "8e038f82-4314-45c9-b5e7-c90a7cd11661"
      },
      "source": [
        "plt.figure(figsize=(12,5))\n",
        "sns.countplot(x='sub_grade', hue='loan_status', data=df, order=('F1','F2','F3','F4','F5','G1','G2','G3','G4','G5'))\n",
        "plt.show()"
      ],
      "execution_count": null,
      "outputs": [
        {
          "output_type": "display_data",
          "data": {
            "image/png": "[encoded data removed]",
            "text/plain": [
              "<Figure size 864x360 with 1 Axes>"
            ]
          },
          "metadata": {
            "tags": [],
            "needs_background": "light"
          }
        }
      ]
    },
    {
      "cell_type": "code",
      "metadata": {
        "id": "rj4KSg7Cyp4U"
      },
      "source": [
        "df['loan_repaid'] = df['loan_status'].map({\"Fully Paid\":1, \"Charged Off\":0})"
      ],
      "execution_count": null,
      "outputs": []
    },
    {
      "cell_type": "code",
      "metadata": {
        "id": "3kuxvkMOyuEB",
        "colab": {
          "base_uri": "https://localhost:8080/",
          "height": 359
        },
        "outputId": "3de137f4-6902-4e5f-992f-48128297fbe5"
      },
      "source": [
        "df[['loan_repaid','loan_status']].head(10)"
      ],
      "execution_count": null,
      "outputs": [
        {
          "output_type": "execute_result",
          "data": {
            "text/html": [
              "<div>\n",
              "<style scoped>\n",
              "    .dataframe tbody tr th:only-of-type {\n",
              "        vertical-align: middle;\n",
              "    }\n",
              "\n",
              "    .dataframe tbody tr th {\n",
              "        vertical-align: top;\n",
              "    }\n",
              "\n",
              "    .dataframe thead th {\n",
              "        text-align: right;\n",
              "    }\n",
              "</style>\n",
              "<table border=\"1\" class=\"dataframe\">\n",
              "  <thead>\n",
              "    <tr style=\"text-align: right;\">\n",
              "      <th></th>\n",
              "      <th>loan_repaid</th>\n",
              "      <th>loan_status</th>\n",
              "    </tr>\n",
              "  </thead>\n",
              "  <tbody>\n",
              "    <tr>\n",
              "      <th>0</th>\n",
              "      <td>1</td>\n",
              "      <td>Fully Paid</td>\n",
              "    </tr>\n",
              "    <tr>\n",
              "      <th>1</th>\n",
              "      <td>1</td>\n",
              "      <td>Fully Paid</td>\n",
              "    </tr>\n",
              "    <tr>\n",
              "      <th>2</th>\n",
              "      <td>1</td>\n",
              "      <td>Fully Paid</td>\n",
              "    </tr>\n",
              "    <tr>\n",
              "      <th>3</th>\n",
              "      <td>1</td>\n",
              "      <td>Fully Paid</td>\n",
              "    </tr>\n",
              "    <tr>\n",
              "      <th>4</th>\n",
              "      <td>0</td>\n",
              "      <td>Charged Off</td>\n",
              "    </tr>\n",
              "    <tr>\n",
              "      <th>5</th>\n",
              "      <td>1</td>\n",
              "      <td>Fully Paid</td>\n",
              "    </tr>\n",
              "    <tr>\n",
              "      <th>6</th>\n",
              "      <td>1</td>\n",
              "      <td>Fully Paid</td>\n",
              "    </tr>\n",
              "    <tr>\n",
              "      <th>7</th>\n",
              "      <td>1</td>\n",
              "      <td>Fully Paid</td>\n",
              "    </tr>\n",
              "    <tr>\n",
              "      <th>8</th>\n",
              "      <td>1</td>\n",
              "      <td>Fully Paid</td>\n",
              "    </tr>\n",
              "    <tr>\n",
              "      <th>9</th>\n",
              "      <td>1</td>\n",
              "      <td>Fully Paid</td>\n",
              "    </tr>\n",
              "  </tbody>\n",
              "</table>\n",
              "</div>"
            ],
            "text/plain": [
              "   loan_repaid  loan_status\n",
              "0            1   Fully Paid\n",
              "1            1   Fully Paid\n",
              "2            1   Fully Paid\n",
              "3            1   Fully Paid\n",
              "4            0  Charged Off\n",
              "5            1   Fully Paid\n",
              "6            1   Fully Paid\n",
              "7            1   Fully Paid\n",
              "8            1   Fully Paid\n",
              "9            1   Fully Paid"
            ]
          },
          "metadata": {
            "tags": []
          },
          "execution_count": 24
        }
      ]
    },
    {
      "cell_type": "code",
      "metadata": {
        "id": "Q584W772pBL9",
        "colab": {
          "base_uri": "https://localhost:8080/",
          "height": 287
        },
        "outputId": "9b3ca016-e642-4b35-a788-df588b227167"
      },
      "source": [
        "plt.figure(figsize=(12,5))\n",
        "sns.countplot(x='loan_repaid', hue='loan_status', data=df )\n",
        "plt.show()"
      ],
      "execution_count": null,
      "outputs": [
        {
          "output_type": "display_data",
          "data": {
            "image/png": "[encoded data removed]",
            "text/plain": [
              "<Figure size 864x360 with 1 Axes>"
            ]
          },
          "metadata": {
            "tags": [],
            "needs_background": "light"
          }
        }
      ]
    },
    {
      "cell_type": "code",
      "metadata": {
        "id": "CHsLmwqnp5FQ",
        "colab": {
          "base_uri": "https://localhost:8080/"
        },
        "outputId": "590a2c86-fa58-467a-8e68-a4f0810495d6"
      },
      "source": [
        "df['loan_amnt'].value_counts()"
      ],
      "execution_count": null,
      "outputs": [
        {
          "output_type": "execute_result",
          "data": {
            "text/plain": [
              "10000.0    27668\n",
              "12000.0    21366\n",
              "15000.0    19903\n",
              "20000.0    18969\n",
              "35000.0    14576\n",
              "           ...  \n",
              "37450.0        1\n",
              "36775.0        1\n",
              "725.0          1\n",
              "36225.0        1\n",
              "35475.0        1\n",
              "Name: loan_amnt, Length: 1397, dtype: int64"
            ]
          },
          "metadata": {
            "tags": []
          },
          "execution_count": 26
        }
      ]
    },
    {
      "cell_type": "code",
      "metadata": {
        "id": "O50X4Vn3powA"
      },
      "source": [
        "df['loan_amnt']= df['loan_amnt'].round(decimals=-3)"
      ],
      "execution_count": null,
      "outputs": []
    },
    {
      "cell_type": "code",
      "metadata": {
        "id": "Et7Vh1zMqzK7",
        "colab": {
          "base_uri": "https://localhost:8080/"
        },
        "outputId": "ced08dc4-5391-437b-d477-dc31db8296bb"
      },
      "source": [
        "df['loan_amnt'].value_counts()"
      ],
      "execution_count": null,
      "outputs": [
        {
          "output_type": "execute_result",
          "data": {
            "text/plain": [
              "10000.0    39020\n",
              "12000.0    28429\n",
              "8000.0     25172\n",
              "6000.0     24071\n",
              "15000.0    23636\n",
              "20000.0    22948\n",
              "5000.0     19357\n",
              "35000.0    14779\n",
              "16000.0    14754\n",
              "7000.0     14659\n",
              "4000.0     14272\n",
              "18000.0    14100\n",
              "14000.0    13416\n",
              "9000.0     11326\n",
              "24000.0    11248\n",
              "25000.0    10997\n",
              "11000.0    10581\n",
              "2000.0      9125\n",
              "3000.0      8849\n",
              "13000.0     8703\n",
              "30000.0     7966\n",
              "21000.0     7493\n",
              "28000.0     6894\n",
              "17000.0     6517\n",
              "22000.0     5422\n",
              "19000.0     5418\n",
              "23000.0     3053\n",
              "1000.0      2738\n",
              "26000.0     2533\n",
              "32000.0     2085\n",
              "27000.0     1694\n",
              "29000.0     1503\n",
              "34000.0     1050\n",
              "33000.0      984\n",
              "31000.0      977\n",
              "40000.0      183\n",
              "36000.0       51\n",
              "38000.0       11\n",
              "37000.0        8\n",
              "39000.0        4\n",
              "0.0            4\n",
              "Name: loan_amnt, dtype: int64"
            ]
          },
          "metadata": {
            "tags": []
          },
          "execution_count": 28
        }
      ]
    },
    {
      "cell_type": "code",
      "metadata": {
        "id": "7pJ1eASSEVv_",
        "colab": {
          "base_uri": "https://localhost:8080/",
          "height": 329
        },
        "outputId": "500b988c-56e5-40c0-91d9-71deb12a017f"
      },
      "source": [
        "df.home_ownership.value_counts().plot(kind= 'bar')"
      ],
      "execution_count": null,
      "outputs": [
        {
          "output_type": "execute_result",
          "data": {
            "text/plain": [
              "<matplotlib.axes._subplots.AxesSubplot at 0x7f15c8b1d7f0>"
            ]
          },
          "metadata": {
            "tags": []
          },
          "execution_count": 29
        },
        {
          "output_type": "display_data",
          "data": {
            "image/png": "[encoded data removed]",
            "text/plain": [
              "<Figure size 432x288 with 1 Axes>"
            ]
          },
          "metadata": {
            "tags": [],
            "needs_background": "light"
          }
        }
      ]
    },
    {
      "cell_type": "code",
      "metadata": {
        "id": "7Pej_cu6zFT2",
        "colab": {
          "base_uri": "https://localhost:8080/",
          "height": 382
        },
        "outputId": "b2e72851-22e8-4ae4-cdec-950f4b29e8df"
      },
      "source": [
        "df.corr()['loan_repaid'].sort_values().drop('loan_repaid').plot(kind='bar')"
      ],
      "execution_count": null,
      "outputs": [
        {
          "output_type": "execute_result",
          "data": {
            "text/plain": [
              "<matplotlib.axes._subplots.AxesSubplot at 0x7f15c8a96be0>"
            ]
          },
          "metadata": {
            "tags": []
          },
          "execution_count": 30
        },
        {
          "output_type": "display_data",
          "data": {
            "image/png": "[encoded data removed]",
            "text/plain": [
              "<Figure size 432x288 with 1 Axes>"
            ]
          },
          "metadata": {
            "tags": [],
            "needs_background": "light"
          }
        }
      ]
    },
    {
      "cell_type": "code",
      "metadata": {
        "id": "pZy3lBka5X7K"
      },
      "source": [
        "def outlier_count(col, data=df):\n",
        "    print(15*'-' + col + 15*'-')\n",
        "    q75, q25 = np.percentile(data[col], [75, 25])\n",
        "    iqr = q75 - q25\n",
        "    min_val = q25 - (iqr*1.5)\n",
        "    max_val = q75 + (iqr*1.5)\n",
        "    outlier_count = len(np.where((data[col] > max_val) | (data[col] < min_val))[0])\n",
        "    outlier_percent = round(outlier_count/len(data[col])*100, 2)\n",
        "    print('Number of outliers: {}'.format(outlier_count))\n",
        "    print('Percent of data that is outlier: {}%'.format(outlier_percent))"
      ],
      "execution_count": null,
      "outputs": []
    },
    {
      "cell_type": "code",
      "metadata": {
        "id": "mO3L3_Bq5e5v",
        "colab": {
          "base_uri": "https://localhost:8080/"
        },
        "outputId": "ef74a370-4425-49f1-8db9-84b6cf96e9a4"
      },
      "source": [
        "numerics = ['int16', 'int32', 'int64', 'float16', 'float32', 'float64']\n",
        "cols = list(df.select_dtypes(include= numerics))\n",
        "for col in cols:\n",
        "    outlier_count(col)"
      ],
      "execution_count": null,
      "outputs": [
        {
          "output_type": "stream",
          "text": [
            "---------------loan_amnt---------------\n",
            "Number of outliers: 187\n",
            "Percent of data that is outlier: 0.05%\n",
            "---------------int_rate---------------\n",
            "Number of outliers: 3777\n",
            "Percent of data that is outlier: 0.95%\n",
            "---------------installment---------------\n",
            "Number of outliers: 11250\n",
            "Percent of data that is outlier: 2.84%\n",
            "---------------annual_inc---------------\n",
            "Number of outliers: 16700\n",
            "Percent of data that is outlier: 4.22%\n",
            "---------------dti---------------\n",
            "Number of outliers: 275\n",
            "Percent of data that is outlier: 0.07%\n",
            "---------------open_acc---------------\n",
            "Number of outliers: 10307\n",
            "Percent of data that is outlier: 2.6%\n",
            "---------------pub_rec---------------\n",
            "Number of outliers: 57758\n",
            "Percent of data that is outlier: 14.58%\n",
            "---------------revol_bal---------------\n",
            "Number of outliers: 21259\n",
            "Percent of data that is outlier: 5.37%\n",
            "---------------revol_util---------------\n",
            "Number of outliers: 0\n",
            "Percent of data that is outlier: 0.0%\n",
            "---------------total_acc---------------\n",
            "Number of outliers: 8499\n",
            "Percent of data that is outlier: 2.15%\n",
            "---------------mort_acc---------------\n",
            "Number of outliers: 0\n",
            "Percent of data that is outlier: 0.0%\n",
            "---------------pub_rec_bankruptcies---------------\n",
            "Number of outliers: 0\n",
            "Percent of data that is outlier: 0.0%\n",
            "---------------loan_repaid---------------\n",
            "Number of outliers: 77673\n",
            "Percent of data that is outlier: 19.61%\n"
          ],
          "name": "stdout"
        }
      ]
    },
    {
      "cell_type": "code",
      "metadata": {
        "id": "5oAkVI_zIC7G"
      },
      "source": [
        "df.home_ownership = df.home_ownership.replace('ANY', 'OTHER')"
      ],
      "execution_count": null,
      "outputs": []
    },
    {
      "cell_type": "code",
      "metadata": {
        "id": "CDe79MSdIcrp",
        "colab": {
          "base_uri": "https://localhost:8080/"
        },
        "outputId": "20890fe6-6d08-49db-b7be-60e63b4057bf"
      },
      "source": [
        "df.home_ownership.value_counts()"
      ],
      "execution_count": null,
      "outputs": [
        {
          "output_type": "execute_result",
          "data": {
            "text/plain": [
              "MORTGAGE    198348\n",
              "RENT        159790\n",
              "OWN          37746\n",
              "OTHER          115\n",
              "NONE            31\n",
              "Name: home_ownership, dtype: int64"
            ]
          },
          "metadata": {
            "tags": []
          },
          "execution_count": 34
        }
      ]
    },
    {
      "cell_type": "code",
      "metadata": {
        "id": "49hwwO6M3AmV",
        "colab": {
          "base_uri": "https://localhost:8080/",
          "height": 917
        },
        "outputId": "a8d6e5fc-108b-489c-a954-ad406a1144de"
      },
      "source": [
        "percent_missing = df.isnull().sum() * 100 / len(df)\n",
        "missing_value_df = pd.DataFrame({'column_name': df.columns,\n",
        "                                 'percent_missing': percent_missing})\n",
        "missing_value_df.sort_values(by = 'percent_missing', ascending= False)"
      ],
      "execution_count": null,
      "outputs": [
        {
          "output_type": "execute_result",
          "data": {
            "text/html": [
              "<div>\n",
              "<style scoped>\n",
              "    .dataframe tbody tr th:only-of-type {\n",
              "        vertical-align: middle;\n",
              "    }\n",
              "\n",
              "    .dataframe tbody tr th {\n",
              "        vertical-align: top;\n",
              "    }\n",
              "\n",
              "    .dataframe thead th {\n",
              "        text-align: right;\n",
              "    }\n",
              "</style>\n",
              "<table border=\"1\" class=\"dataframe\">\n",
              "  <thead>\n",
              "    <tr style=\"text-align: right;\">\n",
              "      <th></th>\n",
              "      <th>column_name</th>\n",
              "      <th>percent_missing</th>\n",
              "    </tr>\n",
              "  </thead>\n",
              "  <tbody>\n",
              "    <tr>\n",
              "      <th>mort_acc</th>\n",
              "      <td>mort_acc</td>\n",
              "      <td>9.543469</td>\n",
              "    </tr>\n",
              "    <tr>\n",
              "      <th>emp_title</th>\n",
              "      <td>emp_title</td>\n",
              "      <td>5.789208</td>\n",
              "    </tr>\n",
              "    <tr>\n",
              "      <th>emp_length</th>\n",
              "      <td>emp_length</td>\n",
              "      <td>4.621115</td>\n",
              "    </tr>\n",
              "    <tr>\n",
              "      <th>title</th>\n",
              "      <td>title</td>\n",
              "      <td>0.443148</td>\n",
              "    </tr>\n",
              "    <tr>\n",
              "      <th>pub_rec_bankruptcies</th>\n",
              "      <td>pub_rec_bankruptcies</td>\n",
              "      <td>0.135091</td>\n",
              "    </tr>\n",
              "    <tr>\n",
              "      <th>revol_util</th>\n",
              "      <td>revol_util</td>\n",
              "      <td>0.069692</td>\n",
              "    </tr>\n",
              "    <tr>\n",
              "      <th>dti</th>\n",
              "      <td>dti</td>\n",
              "      <td>0.000000</td>\n",
              "    </tr>\n",
              "    <tr>\n",
              "      <th>address</th>\n",
              "      <td>address</td>\n",
              "      <td>0.000000</td>\n",
              "    </tr>\n",
              "    <tr>\n",
              "      <th>application_type</th>\n",
              "      <td>application_type</td>\n",
              "      <td>0.000000</td>\n",
              "    </tr>\n",
              "    <tr>\n",
              "      <th>initial_list_status</th>\n",
              "      <td>initial_list_status</td>\n",
              "      <td>0.000000</td>\n",
              "    </tr>\n",
              "    <tr>\n",
              "      <th>total_acc</th>\n",
              "      <td>total_acc</td>\n",
              "      <td>0.000000</td>\n",
              "    </tr>\n",
              "    <tr>\n",
              "      <th>revol_bal</th>\n",
              "      <td>revol_bal</td>\n",
              "      <td>0.000000</td>\n",
              "    </tr>\n",
              "    <tr>\n",
              "      <th>pub_rec</th>\n",
              "      <td>pub_rec</td>\n",
              "      <td>0.000000</td>\n",
              "    </tr>\n",
              "    <tr>\n",
              "      <th>open_acc</th>\n",
              "      <td>open_acc</td>\n",
              "      <td>0.000000</td>\n",
              "    </tr>\n",
              "    <tr>\n",
              "      <th>earliest_cr_line</th>\n",
              "      <td>earliest_cr_line</td>\n",
              "      <td>0.000000</td>\n",
              "    </tr>\n",
              "    <tr>\n",
              "      <th>loan_amnt</th>\n",
              "      <td>loan_amnt</td>\n",
              "      <td>0.000000</td>\n",
              "    </tr>\n",
              "    <tr>\n",
              "      <th>term</th>\n",
              "      <td>term</td>\n",
              "      <td>0.000000</td>\n",
              "    </tr>\n",
              "    <tr>\n",
              "      <th>purpose</th>\n",
              "      <td>purpose</td>\n",
              "      <td>0.000000</td>\n",
              "    </tr>\n",
              "    <tr>\n",
              "      <th>loan_status</th>\n",
              "      <td>loan_status</td>\n",
              "      <td>0.000000</td>\n",
              "    </tr>\n",
              "    <tr>\n",
              "      <th>issue_d</th>\n",
              "      <td>issue_d</td>\n",
              "      <td>0.000000</td>\n",
              "    </tr>\n",
              "    <tr>\n",
              "      <th>verification_status</th>\n",
              "      <td>verification_status</td>\n",
              "      <td>0.000000</td>\n",
              "    </tr>\n",
              "    <tr>\n",
              "      <th>annual_inc</th>\n",
              "      <td>annual_inc</td>\n",
              "      <td>0.000000</td>\n",
              "    </tr>\n",
              "    <tr>\n",
              "      <th>home_ownership</th>\n",
              "      <td>home_ownership</td>\n",
              "      <td>0.000000</td>\n",
              "    </tr>\n",
              "    <tr>\n",
              "      <th>sub_grade</th>\n",
              "      <td>sub_grade</td>\n",
              "      <td>0.000000</td>\n",
              "    </tr>\n",
              "    <tr>\n",
              "      <th>grade</th>\n",
              "      <td>grade</td>\n",
              "      <td>0.000000</td>\n",
              "    </tr>\n",
              "    <tr>\n",
              "      <th>installment</th>\n",
              "      <td>installment</td>\n",
              "      <td>0.000000</td>\n",
              "    </tr>\n",
              "    <tr>\n",
              "      <th>int_rate</th>\n",
              "      <td>int_rate</td>\n",
              "      <td>0.000000</td>\n",
              "    </tr>\n",
              "    <tr>\n",
              "      <th>loan_repaid</th>\n",
              "      <td>loan_repaid</td>\n",
              "      <td>0.000000</td>\n",
              "    </tr>\n",
              "  </tbody>\n",
              "</table>\n",
              "</div>"
            ],
            "text/plain": [
              "                               column_name  percent_missing\n",
              "mort_acc                          mort_acc         9.543469\n",
              "emp_title                        emp_title         5.789208\n",
              "emp_length                      emp_length         4.621115\n",
              "title                                title         0.443148\n",
              "pub_rec_bankruptcies  pub_rec_bankruptcies         0.135091\n",
              "revol_util                      revol_util         0.069692\n",
              "dti                                    dti         0.000000\n",
              "address                            address         0.000000\n",
              "application_type          application_type         0.000000\n",
              "initial_list_status    initial_list_status         0.000000\n",
              "total_acc                        total_acc         0.000000\n",
              "revol_bal                        revol_bal         0.000000\n",
              "pub_rec                            pub_rec         0.000000\n",
              "open_acc                          open_acc         0.000000\n",
              "earliest_cr_line          earliest_cr_line         0.000000\n",
              "loan_amnt                        loan_amnt         0.000000\n",
              "term                                  term         0.000000\n",
              "purpose                            purpose         0.000000\n",
              "loan_status                    loan_status         0.000000\n",
              "issue_d                            issue_d         0.000000\n",
              "verification_status    verification_status         0.000000\n",
              "annual_inc                      annual_inc         0.000000\n",
              "home_ownership              home_ownership         0.000000\n",
              "sub_grade                        sub_grade         0.000000\n",
              "grade                                grade         0.000000\n",
              "installment                    installment         0.000000\n",
              "int_rate                          int_rate         0.000000\n",
              "loan_repaid                    loan_repaid         0.000000"
            ]
          },
          "metadata": {
            "tags": []
          },
          "execution_count": 35
        }
      ]
    },
    {
      "cell_type": "code",
      "metadata": {
        "id": "nKxjw_zQ4GW8",
        "colab": {
          "base_uri": "https://localhost:8080/",
          "height": 419
        },
        "outputId": "2761bfb3-c9d3-4b63-b4c1-cc9121d50d2e"
      },
      "source": [
        "df[['total_acc','mort_acc']]"
      ],
      "execution_count": null,
      "outputs": [
        {
          "output_type": "execute_result",
          "data": {
            "text/html": [
              "<div>\n",
              "<style scoped>\n",
              "    .dataframe tbody tr th:only-of-type {\n",
              "        vertical-align: middle;\n",
              "    }\n",
              "\n",
              "    .dataframe tbody tr th {\n",
              "        vertical-align: top;\n",
              "    }\n",
              "\n",
              "    .dataframe thead th {\n",
              "        text-align: right;\n",
              "    }\n",
              "</style>\n",
              "<table border=\"1\" class=\"dataframe\">\n",
              "  <thead>\n",
              "    <tr style=\"text-align: right;\">\n",
              "      <th></th>\n",
              "      <th>total_acc</th>\n",
              "      <th>mort_acc</th>\n",
              "    </tr>\n",
              "  </thead>\n",
              "  <tbody>\n",
              "    <tr>\n",
              "      <th>0</th>\n",
              "      <td>25.0</td>\n",
              "      <td>0.0</td>\n",
              "    </tr>\n",
              "    <tr>\n",
              "      <th>1</th>\n",
              "      <td>27.0</td>\n",
              "      <td>3.0</td>\n",
              "    </tr>\n",
              "    <tr>\n",
              "      <th>2</th>\n",
              "      <td>26.0</td>\n",
              "      <td>0.0</td>\n",
              "    </tr>\n",
              "    <tr>\n",
              "      <th>3</th>\n",
              "      <td>13.0</td>\n",
              "      <td>0.0</td>\n",
              "    </tr>\n",
              "    <tr>\n",
              "      <th>4</th>\n",
              "      <td>43.0</td>\n",
              "      <td>1.0</td>\n",
              "    </tr>\n",
              "    <tr>\n",
              "      <th>...</th>\n",
              "      <td>...</td>\n",
              "      <td>...</td>\n",
              "    </tr>\n",
              "    <tr>\n",
              "      <th>396025</th>\n",
              "      <td>23.0</td>\n",
              "      <td>0.0</td>\n",
              "    </tr>\n",
              "    <tr>\n",
              "      <th>396026</th>\n",
              "      <td>8.0</td>\n",
              "      <td>1.0</td>\n",
              "    </tr>\n",
              "    <tr>\n",
              "      <th>396027</th>\n",
              "      <td>23.0</td>\n",
              "      <td>0.0</td>\n",
              "    </tr>\n",
              "    <tr>\n",
              "      <th>396028</th>\n",
              "      <td>20.0</td>\n",
              "      <td>5.0</td>\n",
              "    </tr>\n",
              "    <tr>\n",
              "      <th>396029</th>\n",
              "      <td>19.0</td>\n",
              "      <td>NaN</td>\n",
              "    </tr>\n",
              "  </tbody>\n",
              "</table>\n",
              "<p>396030 rows × 2 columns</p>\n",
              "</div>"
            ],
            "text/plain": [
              "        total_acc  mort_acc\n",
              "0            25.0       0.0\n",
              "1            27.0       3.0\n",
              "2            26.0       0.0\n",
              "3            13.0       0.0\n",
              "4            43.0       1.0\n",
              "...           ...       ...\n",
              "396025       23.0       0.0\n",
              "396026        8.0       1.0\n",
              "396027       23.0       0.0\n",
              "396028       20.0       5.0\n",
              "396029       19.0       NaN\n",
              "\n",
              "[396030 rows x 2 columns]"
            ]
          },
          "metadata": {
            "tags": []
          },
          "execution_count": 36
        }
      ]
    },
    {
      "cell_type": "markdown",
      "metadata": {
        "id": "2FqN_3fPs1VP"
      },
      "source": [
        "**Data Preprocessing**"
      ]
    },
    {
      "cell_type": "code",
      "metadata": {
        "id": "9KDY7jnuG-vn",
        "colab": {
          "base_uri": "https://localhost:8080/"
        },
        "outputId": "ba5595bb-164c-4a82-f30f-a8b3cebc474a"
      },
      "source": [
        "len(df)"
      ],
      "execution_count": null,
      "outputs": [
        {
          "output_type": "execute_result",
          "data": {
            "text/plain": [
              "396030"
            ]
          },
          "metadata": {
            "tags": []
          },
          "execution_count": 37
        }
      ]
    },
    {
      "cell_type": "code",
      "metadata": {
        "id": "wcgwlA9ysy4y",
        "colab": {
          "base_uri": "https://localhost:8080/"
        },
        "outputId": "71ba79d4-7bde-4084-9267-efbc39b30dd8"
      },
      "source": [
        "df.isnull().sum()/len(df)"
      ],
      "execution_count": null,
      "outputs": [
        {
          "output_type": "execute_result",
          "data": {
            "text/plain": [
              "loan_amnt               0.000000\n",
              "term                    0.000000\n",
              "int_rate                0.000000\n",
              "installment             0.000000\n",
              "grade                   0.000000\n",
              "sub_grade               0.000000\n",
              "emp_title               0.057892\n",
              "emp_length              0.046211\n",
              "home_ownership          0.000000\n",
              "annual_inc              0.000000\n",
              "verification_status     0.000000\n",
              "issue_d                 0.000000\n",
              "loan_status             0.000000\n",
              "purpose                 0.000000\n",
              "title                   0.004431\n",
              "dti                     0.000000\n",
              "earliest_cr_line        0.000000\n",
              "open_acc                0.000000\n",
              "pub_rec                 0.000000\n",
              "revol_bal               0.000000\n",
              "revol_util              0.000697\n",
              "total_acc               0.000000\n",
              "initial_list_status     0.000000\n",
              "application_type        0.000000\n",
              "mort_acc                0.095435\n",
              "pub_rec_bankruptcies    0.001351\n",
              "address                 0.000000\n",
              "loan_repaid             0.000000\n",
              "dtype: float64"
            ]
          },
          "metadata": {
            "tags": []
          },
          "execution_count": 38
        }
      ]
    },
    {
      "cell_type": "code",
      "metadata": {
        "id": "VbUbM0PotBRV",
        "colab": {
          "base_uri": "https://localhost:8080/"
        },
        "outputId": "c4c25ef8-4a20-4ddb-c6b7-874f124e535f"
      },
      "source": [
        "feature_info('emp_title')"
      ],
      "execution_count": null,
      "outputs": [
        {
          "output_type": "stream",
          "text": [
            "The job title supplied by the Borrower when applying for the loan.*\n"
          ],
          "name": "stdout"
        }
      ]
    },
    {
      "cell_type": "code",
      "metadata": {
        "id": "7yTMcOcAtixA",
        "colab": {
          "base_uri": "https://localhost:8080/"
        },
        "outputId": "89d8e3b5-de70-4cae-cff3-a1fdcc377c7b"
      },
      "source": [
        "feature_info('emp_length')"
      ],
      "execution_count": null,
      "outputs": [
        {
          "output_type": "stream",
          "text": [
            "Employment length in years. Possible values are between 0 and 10 where 0 means less than one year and 10 means ten or more years. \n"
          ],
          "name": "stdout"
        }
      ]
    },
    {
      "cell_type": "code",
      "metadata": {
        "id": "uULh1buWtrGg",
        "colab": {
          "base_uri": "https://localhost:8080/"
        },
        "outputId": "0baeaf9a-7609-4ccf-c506-65d15e7307ba"
      },
      "source": [
        "df['emp_title'].nunique()"
      ],
      "execution_count": null,
      "outputs": [
        {
          "output_type": "execute_result",
          "data": {
            "text/plain": [
              "173105"
            ]
          },
          "metadata": {
            "tags": []
          },
          "execution_count": 41
        }
      ]
    },
    {
      "cell_type": "code",
      "metadata": {
        "id": "TfgrXLm2twkL",
        "colab": {
          "base_uri": "https://localhost:8080/"
        },
        "outputId": "77d7a9d6-0b63-4729-af7a-0c660f40d8ed"
      },
      "source": [
        "df['emp_title'].value_counts()"
      ],
      "execution_count": null,
      "outputs": [
        {
          "output_type": "execute_result",
          "data": {
            "text/plain": [
              "Teacher                                    4389\n",
              "Manager                                    4250\n",
              "Registered Nurse                           1856\n",
              "RN                                         1846\n",
              "Supervisor                                 1830\n",
              "                                           ... \n",
              "Temple Shaaray Tefila; New York Sports        1\n",
              "Aaron jones construction LLC                  1\n",
              "Direct Support                                1\n",
              "Human resource Generalist                     1\n",
              "Chemical Engineering Technician               1\n",
              "Name: emp_title, Length: 173105, dtype: int64"
            ]
          },
          "metadata": {
            "tags": []
          },
          "execution_count": 42
        }
      ]
    },
    {
      "cell_type": "code",
      "metadata": {
        "id": "9KyjjmzHuFO8"
      },
      "source": [
        "df = df.drop('emp_title',axis=1)"
      ],
      "execution_count": null,
      "outputs": []
    },
    {
      "cell_type": "code",
      "metadata": {
        "id": "ZmAvxwO6uHx0",
        "colab": {
          "base_uri": "https://localhost:8080/"
        },
        "outputId": "e40383ae-8b79-4928-80d8-c50d7ba4417d"
      },
      "source": [
        "df['emp_length']"
      ],
      "execution_count": null,
      "outputs": [
        {
          "output_type": "execute_result",
          "data": {
            "text/plain": [
              "0         10+ years\n",
              "1           4 years\n",
              "2          < 1 year\n",
              "3           6 years\n",
              "4           9 years\n",
              "            ...    \n",
              "396025      2 years\n",
              "396026      5 years\n",
              "396027    10+ years\n",
              "396028    10+ years\n",
              "396029    10+ years\n",
              "Name: emp_length, Length: 396030, dtype: object"
            ]
          },
          "metadata": {
            "tags": []
          },
          "execution_count": 44
        }
      ]
    },
    {
      "cell_type": "code",
      "metadata": {
        "id": "qeO7vnZiuJ5V",
        "colab": {
          "base_uri": "https://localhost:8080/",
          "height": 405
        },
        "outputId": "172445b6-b938-4149-bbd8-b8bc8708c02d"
      },
      "source": [
        "plt.figure(figsize=(10,5))\n",
        "\n",
        "sns.countplot(df['emp_length'], order=['< 1 year','1 year', '2 years', '3 years',\"4 years\",'5 years','6 years','7 years','8 years','9 years','10+ years' ])"
      ],
      "execution_count": null,
      "outputs": [
        {
          "output_type": "stream",
          "text": [
            "/usr/local/lib/python3.6/dist-packages/seaborn/_decorators.py:43: FutureWarning: Pass the following variable as a keyword arg: x. From version 0.12, the only valid positional argument will be `data`, and passing other arguments without an explicit keyword will result in an error or misinterpretation.\n",
            "  FutureWarning\n"
          ],
          "name": "stderr"
        },
        {
          "output_type": "execute_result",
          "data": {
            "text/plain": [
              "<matplotlib.axes._subplots.AxesSubplot at 0x7f15c8af3b00>"
            ]
          },
          "metadata": {
            "tags": []
          },
          "execution_count": 45
        },
        {
          "output_type": "display_data",
          "data": {
            "image/png": "[encoded data removed]",
            "text/plain": [
              "<Figure size 720x360 with 1 Axes>"
            ]
          },
          "metadata": {
            "tags": [],
            "needs_background": "light"
          }
        }
      ]
    },
    {
      "cell_type": "code",
      "metadata": {
        "id": "HtH0_N_ruL_T",
        "colab": {
          "base_uri": "https://localhost:8080/",
          "height": 405
        },
        "outputId": "48a48347-4d11-4195-98a2-94f747fb21bf"
      },
      "source": [
        "plt.figure(figsize=(10,5))\n",
        "sns.countplot(df['emp_length'], hue=df['loan_status'], order=['< 1 year','1 year', '2 years', '3 years',\"4 years\",'5 years','6 years','7 years','8 years','9 years','10+ years' ])"
      ],
      "execution_count": null,
      "outputs": [
        {
          "output_type": "stream",
          "text": [
            "/usr/local/lib/python3.6/dist-packages/seaborn/_decorators.py:43: FutureWarning: Pass the following variable as a keyword arg: x. From version 0.12, the only valid positional argument will be `data`, and passing other arguments without an explicit keyword will result in an error or misinterpretation.\n",
            "  FutureWarning\n"
          ],
          "name": "stderr"
        },
        {
          "output_type": "execute_result",
          "data": {
            "text/plain": [
              "<matplotlib.axes._subplots.AxesSubplot at 0x7f15c8bf0048>"
            ]
          },
          "metadata": {
            "tags": []
          },
          "execution_count": 46
        },
        {
          "output_type": "display_data",
          "data": {
            "image/png": "[encoded data removed]",
            "text/plain": [
              "<Figure size 720x360 with 1 Axes>"
            ]
          },
          "metadata": {
            "tags": [],
            "needs_background": "light"
          }
        }
      ]
    },
    {
      "cell_type": "code",
      "metadata": {
        "id": "OM30_wvguQ20"
      },
      "source": [
        "charged_off = df[df['loan_status']=='Charged Off'].groupby('emp_length').count()['loan_status']"
      ],
      "execution_count": null,
      "outputs": []
    },
    {
      "cell_type": "code",
      "metadata": {
        "id": "hrrEJPVhuhdM"
      },
      "source": [
        "paid = df[df['loan_status']=='Fully Paid'].groupby('emp_length').count()['loan_status']\n"
      ],
      "execution_count": null,
      "outputs": []
    },
    {
      "cell_type": "code",
      "metadata": {
        "id": "UY45Ej26ujOd",
        "colab": {
          "base_uri": "https://localhost:8080/",
          "height": 339
        },
        "outputId": "b7082a10-ebbf-4491-9a8f-4e0adb90be04"
      },
      "source": [
        "percent = charged_off/(charged_off + paid)\n",
        "percent.plot(kind= 'bar')"
      ],
      "execution_count": null,
      "outputs": [
        {
          "output_type": "execute_result",
          "data": {
            "text/plain": [
              "<matplotlib.axes._subplots.AxesSubplot at 0x7f15ca528780>"
            ]
          },
          "metadata": {
            "tags": []
          },
          "execution_count": 49
        },
        {
          "output_type": "display_data",
          "data": {
            "image/png": "[encoded data removed]",
            "text/plain": [
              "<Figure size 432x288 with 1 Axes>"
            ]
          },
          "metadata": {
            "tags": [],
            "needs_background": "light"
          }
        }
      ]
    },
    {
      "cell_type": "code",
      "metadata": {
        "id": "xBK4r764uoby"
      },
      "source": [
        "df = df.drop('emp_length',axis=1)"
      ],
      "execution_count": null,
      "outputs": []
    },
    {
      "cell_type": "code",
      "metadata": {
        "id": "N9pgzHKjuuLD",
        "colab": {
          "base_uri": "https://localhost:8080/"
        },
        "outputId": "5cc8129b-f824-4f1e-be75-d3a6f7fd62c2"
      },
      "source": [
        "df.info()"
      ],
      "execution_count": null,
      "outputs": [
        {
          "output_type": "stream",
          "text": [
            "<class 'pandas.core.frame.DataFrame'>\n",
            "RangeIndex: 396030 entries, 0 to 396029\n",
            "Data columns (total 26 columns):\n",
            " #   Column                Non-Null Count   Dtype  \n",
            "---  ------                --------------   -----  \n",
            " 0   loan_amnt             396030 non-null  float64\n",
            " 1   term                  396030 non-null  object \n",
            " 2   int_rate              396030 non-null  float64\n",
            " 3   installment           396030 non-null  float64\n",
            " 4   grade                 396030 non-null  object \n",
            " 5   sub_grade             396030 non-null  object \n",
            " 6   home_ownership        396030 non-null  object \n",
            " 7   annual_inc            396030 non-null  float64\n",
            " 8   verification_status   396030 non-null  object \n",
            " 9   issue_d               396030 non-null  object \n",
            " 10  loan_status           396030 non-null  object \n",
            " 11  purpose               396030 non-null  object \n",
            " 12  title                 394275 non-null  object \n",
            " 13  dti                   396030 non-null  float64\n",
            " 14  earliest_cr_line      396030 non-null  object \n",
            " 15  open_acc              396030 non-null  float64\n",
            " 16  pub_rec               396030 non-null  float64\n",
            " 17  revol_bal             396030 non-null  float64\n",
            " 18  revol_util            395754 non-null  float64\n",
            " 19  total_acc             396030 non-null  float64\n",
            " 20  initial_list_status   396030 non-null  object \n",
            " 21  application_type      396030 non-null  object \n",
            " 22  mort_acc              358235 non-null  float64\n",
            " 23  pub_rec_bankruptcies  395495 non-null  float64\n",
            " 24  address               396030 non-null  object \n",
            " 25  loan_repaid           396030 non-null  int64  \n",
            "dtypes: float64(12), int64(1), object(13)\n",
            "memory usage: 78.6+ MB\n"
          ],
          "name": "stdout"
        }
      ]
    },
    {
      "cell_type": "code",
      "metadata": {
        "id": "6h8d39Xxuvg3",
        "colab": {
          "base_uri": "https://localhost:8080/"
        },
        "outputId": "3934494e-e648-4791-9da3-67b4e7b4d953"
      },
      "source": [
        "df['title']"
      ],
      "execution_count": null,
      "outputs": [
        {
          "output_type": "execute_result",
          "data": {
            "text/plain": [
              "0                        Vacation\n",
              "1              Debt consolidation\n",
              "2         Credit card refinancing\n",
              "3         Credit card refinancing\n",
              "4           Credit Card Refinance\n",
              "                   ...           \n",
              "396025         Debt consolidation\n",
              "396026         Debt consolidation\n",
              "396027       pay off credit cards\n",
              "396028              Loanforpayoff\n",
              "396029          Toxic Debt Payoff\n",
              "Name: title, Length: 396030, dtype: object"
            ]
          },
          "metadata": {
            "tags": []
          },
          "execution_count": 52
        }
      ]
    },
    {
      "cell_type": "code",
      "metadata": {
        "id": "D3P4cT-qu0R1",
        "colab": {
          "base_uri": "https://localhost:8080/"
        },
        "outputId": "282c2774-d5b0-44e4-c95a-89ec297ec728"
      },
      "source": [
        "df['purpose']"
      ],
      "execution_count": null,
      "outputs": [
        {
          "output_type": "execute_result",
          "data": {
            "text/plain": [
              "0                   vacation\n",
              "1         debt_consolidation\n",
              "2                credit_card\n",
              "3                credit_card\n",
              "4                credit_card\n",
              "                 ...        \n",
              "396025    debt_consolidation\n",
              "396026    debt_consolidation\n",
              "396027    debt_consolidation\n",
              "396028    debt_consolidation\n",
              "396029    debt_consolidation\n",
              "Name: purpose, Length: 396030, dtype: object"
            ]
          },
          "metadata": {
            "tags": []
          },
          "execution_count": 53
        }
      ]
    },
    {
      "cell_type": "code",
      "metadata": {
        "id": "gf9L7-lUu2U2"
      },
      "source": [
        "df = df.drop('title',axis=1)"
      ],
      "execution_count": null,
      "outputs": []
    },
    {
      "cell_type": "code",
      "metadata": {
        "id": "PncNl0QNu6UM",
        "colab": {
          "base_uri": "https://localhost:8080/"
        },
        "outputId": "fa05f890-c74e-4985-fd7b-558daab30732"
      },
      "source": [
        "df['mort_acc'].value_counts()"
      ],
      "execution_count": null,
      "outputs": [
        {
          "output_type": "execute_result",
          "data": {
            "text/plain": [
              "0.0     139777\n",
              "1.0      60416\n",
              "2.0      49948\n",
              "3.0      38049\n",
              "4.0      27887\n",
              "5.0      18194\n",
              "6.0      11069\n",
              "7.0       6052\n",
              "8.0       3121\n",
              "9.0       1656\n",
              "10.0       865\n",
              "11.0       479\n",
              "12.0       264\n",
              "13.0       146\n",
              "14.0       107\n",
              "15.0        61\n",
              "16.0        37\n",
              "17.0        22\n",
              "18.0        18\n",
              "19.0        15\n",
              "20.0        13\n",
              "24.0        10\n",
              "22.0         7\n",
              "21.0         4\n",
              "25.0         4\n",
              "27.0         3\n",
              "23.0         2\n",
              "32.0         2\n",
              "26.0         2\n",
              "31.0         2\n",
              "30.0         1\n",
              "28.0         1\n",
              "34.0         1\n",
              "Name: mort_acc, dtype: int64"
            ]
          },
          "metadata": {
            "tags": []
          },
          "execution_count": 55
        }
      ]
    },
    {
      "cell_type": "code",
      "metadata": {
        "id": "alU-kpoUu9ID",
        "colab": {
          "base_uri": "https://localhost:8080/"
        },
        "outputId": "c67f5780-bf99-4b32-c9d0-919c3ece4588"
      },
      "source": [
        "df.corr()[\"mort_acc\"]"
      ],
      "execution_count": null,
      "outputs": [
        {
          "output_type": "execute_result",
          "data": {
            "text/plain": [
              "loan_amnt               0.222290\n",
              "int_rate               -0.082583\n",
              "installment             0.193694\n",
              "annual_inc              0.236320\n",
              "dti                    -0.025439\n",
              "open_acc                0.109205\n",
              "pub_rec                 0.011552\n",
              "revol_bal               0.194925\n",
              "revol_util              0.007514\n",
              "total_acc               0.381072\n",
              "mort_acc                1.000000\n",
              "pub_rec_bankruptcies    0.027239\n",
              "loan_repaid             0.073111\n",
              "Name: mort_acc, dtype: float64"
            ]
          },
          "metadata": {
            "tags": []
          },
          "execution_count": 56
        }
      ]
    },
    {
      "cell_type": "code",
      "metadata": {
        "id": "UgYYKfH4u_Zh"
      },
      "source": [
        "total_median_avrg = df.groupby('total_acc').median()['mort_acc']"
      ],
      "execution_count": null,
      "outputs": []
    },
    {
      "cell_type": "code",
      "metadata": {
        "id": "PPOQcIx2vOcH"
      },
      "source": [
        "def fillNan(mort_acc, median_avrg):\n",
        "    if np.isnan(mort_acc):\n",
        "        return total_median_avrg[median_avrg]\n",
        "    else:\n",
        "        return mort_acc"
      ],
      "execution_count": null,
      "outputs": []
    },
    {
      "cell_type": "code",
      "metadata": {
        "id": "9XGMpfV-vbNT"
      },
      "source": [
        "df['mort_acc'] = df.apply(lambda x: fillNan(x['mort_acc'], x['total_acc']),axis=1)"
      ],
      "execution_count": null,
      "outputs": []
    },
    {
      "cell_type": "code",
      "metadata": {
        "id": "gkyZYlTzve_V",
        "colab": {
          "base_uri": "https://localhost:8080/"
        },
        "outputId": "c5fce3b1-f00c-47f3-c0a0-55c08c593f4f"
      },
      "source": [
        "df.isnull().sum()"
      ],
      "execution_count": null,
      "outputs": [
        {
          "output_type": "execute_result",
          "data": {
            "text/plain": [
              "loan_amnt                 0\n",
              "term                      0\n",
              "int_rate                  0\n",
              "installment               0\n",
              "grade                     0\n",
              "sub_grade                 0\n",
              "home_ownership            0\n",
              "annual_inc                0\n",
              "verification_status       0\n",
              "issue_d                   0\n",
              "loan_status               0\n",
              "purpose                   0\n",
              "dti                       0\n",
              "earliest_cr_line          0\n",
              "open_acc                  0\n",
              "pub_rec                   0\n",
              "revol_bal                 0\n",
              "revol_util              276\n",
              "total_acc                 0\n",
              "initial_list_status       0\n",
              "application_type          0\n",
              "mort_acc                  0\n",
              "pub_rec_bankruptcies    535\n",
              "address                   0\n",
              "loan_repaid               0\n",
              "dtype: int64"
            ]
          },
          "metadata": {
            "tags": []
          },
          "execution_count": 60
        }
      ]
    },
    {
      "cell_type": "code",
      "metadata": {
        "id": "CNWIlAgQvhvy",
        "colab": {
          "base_uri": "https://localhost:8080/"
        },
        "outputId": "58e3ceeb-3487-470b-e866-3bff61912a48"
      },
      "source": [
        "feature_info('revol_util')"
      ],
      "execution_count": null,
      "outputs": [
        {
          "output_type": "stream",
          "text": [
            "Revolving line utilization rate, or the amount of credit the borrower is using relative to all available revolving credit.\n"
          ],
          "name": "stdout"
        }
      ]
    },
    {
      "cell_type": "code",
      "metadata": {
        "id": "VhMNq5Vqvk94",
        "colab": {
          "base_uri": "https://localhost:8080/"
        },
        "outputId": "95ddd015-9e5e-4b44-ced7-782e85a99154"
      },
      "source": [
        "df.groupby('total_acc').mean()['mort_acc']"
      ],
      "execution_count": null,
      "outputs": [
        {
          "output_type": "execute_result",
          "data": {
            "text/plain": [
              "total_acc\n",
              "2.0      0.000000\n",
              "3.0      0.027523\n",
              "4.0      0.046850\n",
              "5.0      0.077416\n",
              "6.0      0.120082\n",
              "           ...   \n",
              "124.0    1.000000\n",
              "129.0    1.000000\n",
              "135.0    3.000000\n",
              "150.0    2.000000\n",
              "151.0    0.000000\n",
              "Name: mort_acc, Length: 118, dtype: float64"
            ]
          },
          "metadata": {
            "tags": []
          },
          "execution_count": 62
        }
      ]
    },
    {
      "cell_type": "code",
      "metadata": {
        "id": "U46t49GKvpWK"
      },
      "source": [
        "df = df.dropna() "
      ],
      "execution_count": null,
      "outputs": []
    },
    {
      "cell_type": "code",
      "metadata": {
        "id": "IjpEFvRxvvR5",
        "colab": {
          "base_uri": "https://localhost:8080/"
        },
        "outputId": "1e406ba3-02a0-4c21-8b63-ad5cacd778d1"
      },
      "source": [
        "df.isnull().sum()"
      ],
      "execution_count": null,
      "outputs": [
        {
          "output_type": "execute_result",
          "data": {
            "text/plain": [
              "loan_amnt               0\n",
              "term                    0\n",
              "int_rate                0\n",
              "installment             0\n",
              "grade                   0\n",
              "sub_grade               0\n",
              "home_ownership          0\n",
              "annual_inc              0\n",
              "verification_status     0\n",
              "issue_d                 0\n",
              "loan_status             0\n",
              "purpose                 0\n",
              "dti                     0\n",
              "earliest_cr_line        0\n",
              "open_acc                0\n",
              "pub_rec                 0\n",
              "revol_bal               0\n",
              "revol_util              0\n",
              "total_acc               0\n",
              "initial_list_status     0\n",
              "application_type        0\n",
              "mort_acc                0\n",
              "pub_rec_bankruptcies    0\n",
              "address                 0\n",
              "loan_repaid             0\n",
              "dtype: int64"
            ]
          },
          "metadata": {
            "tags": []
          },
          "execution_count": 64
        }
      ]
    },
    {
      "cell_type": "code",
      "metadata": {
        "id": "o341UdfYvxFl",
        "colab": {
          "base_uri": "https://localhost:8080/",
          "height": 779
        },
        "outputId": "ae28f710-0e21-494d-a1f2-4e50ab8e46f2"
      },
      "source": [
        "df.select_dtypes(exclude=['float64'])"
      ],
      "execution_count": null,
      "outputs": [
        {
          "output_type": "execute_result",
          "data": {
            "text/html": [
              "<div>\n",
              "<style scoped>\n",
              "    .dataframe tbody tr th:only-of-type {\n",
              "        vertical-align: middle;\n",
              "    }\n",
              "\n",
              "    .dataframe tbody tr th {\n",
              "        vertical-align: top;\n",
              "    }\n",
              "\n",
              "    .dataframe thead th {\n",
              "        text-align: right;\n",
              "    }\n",
              "</style>\n",
              "<table border=\"1\" class=\"dataframe\">\n",
              "  <thead>\n",
              "    <tr style=\"text-align: right;\">\n",
              "      <th></th>\n",
              "      <th>term</th>\n",
              "      <th>grade</th>\n",
              "      <th>sub_grade</th>\n",
              "      <th>home_ownership</th>\n",
              "      <th>verification_status</th>\n",
              "      <th>issue_d</th>\n",
              "      <th>loan_status</th>\n",
              "      <th>purpose</th>\n",
              "      <th>earliest_cr_line</th>\n",
              "      <th>initial_list_status</th>\n",
              "      <th>application_type</th>\n",
              "      <th>address</th>\n",
              "      <th>loan_repaid</th>\n",
              "    </tr>\n",
              "  </thead>\n",
              "  <tbody>\n",
              "    <tr>\n",
              "      <th>0</th>\n",
              "      <td>36 months</td>\n",
              "      <td>B</td>\n",
              "      <td>B4</td>\n",
              "      <td>RENT</td>\n",
              "      <td>Not Verified</td>\n",
              "      <td>Jan-2015</td>\n",
              "      <td>Fully Paid</td>\n",
              "      <td>vacation</td>\n",
              "      <td>Jun-1990</td>\n",
              "      <td>w</td>\n",
              "      <td>INDIVIDUAL</td>\n",
              "      <td>0174 Michelle Gateway\\nMendozaberg, OK 22690</td>\n",
              "      <td>1</td>\n",
              "    </tr>\n",
              "    <tr>\n",
              "      <th>1</th>\n",
              "      <td>36 months</td>\n",
              "      <td>B</td>\n",
              "      <td>B5</td>\n",
              "      <td>MORTGAGE</td>\n",
              "      <td>Not Verified</td>\n",
              "      <td>Jan-2015</td>\n",
              "      <td>Fully Paid</td>\n",
              "      <td>debt_consolidation</td>\n",
              "      <td>Jul-2004</td>\n",
              "      <td>f</td>\n",
              "      <td>INDIVIDUAL</td>\n",
              "      <td>1076 Carney Fort Apt. 347\\nLoganmouth, SD 05113</td>\n",
              "      <td>1</td>\n",
              "    </tr>\n",
              "    <tr>\n",
              "      <th>2</th>\n",
              "      <td>36 months</td>\n",
              "      <td>B</td>\n",
              "      <td>B3</td>\n",
              "      <td>RENT</td>\n",
              "      <td>Source Verified</td>\n",
              "      <td>Jan-2015</td>\n",
              "      <td>Fully Paid</td>\n",
              "      <td>credit_card</td>\n",
              "      <td>Aug-2007</td>\n",
              "      <td>f</td>\n",
              "      <td>INDIVIDUAL</td>\n",
              "      <td>87025 Mark Dale Apt. 269\\nNew Sabrina, WV 05113</td>\n",
              "      <td>1</td>\n",
              "    </tr>\n",
              "    <tr>\n",
              "      <th>3</th>\n",
              "      <td>36 months</td>\n",
              "      <td>A</td>\n",
              "      <td>A2</td>\n",
              "      <td>RENT</td>\n",
              "      <td>Not Verified</td>\n",
              "      <td>Nov-2014</td>\n",
              "      <td>Fully Paid</td>\n",
              "      <td>credit_card</td>\n",
              "      <td>Sep-2006</td>\n",
              "      <td>f</td>\n",
              "      <td>INDIVIDUAL</td>\n",
              "      <td>823 Reid Ford\\nDelacruzside, MA 00813</td>\n",
              "      <td>1</td>\n",
              "    </tr>\n",
              "    <tr>\n",
              "      <th>4</th>\n",
              "      <td>60 months</td>\n",
              "      <td>C</td>\n",
              "      <td>C5</td>\n",
              "      <td>MORTGAGE</td>\n",
              "      <td>Verified</td>\n",
              "      <td>Apr-2013</td>\n",
              "      <td>Charged Off</td>\n",
              "      <td>credit_card</td>\n",
              "      <td>Mar-1999</td>\n",
              "      <td>f</td>\n",
              "      <td>INDIVIDUAL</td>\n",
              "      <td>679 Luna Roads\\nGreggshire, VA 11650</td>\n",
              "      <td>0</td>\n",
              "    </tr>\n",
              "    <tr>\n",
              "      <th>...</th>\n",
              "      <td>...</td>\n",
              "      <td>...</td>\n",
              "      <td>...</td>\n",
              "      <td>...</td>\n",
              "      <td>...</td>\n",
              "      <td>...</td>\n",
              "      <td>...</td>\n",
              "      <td>...</td>\n",
              "      <td>...</td>\n",
              "      <td>...</td>\n",
              "      <td>...</td>\n",
              "      <td>...</td>\n",
              "      <td>...</td>\n",
              "    </tr>\n",
              "    <tr>\n",
              "      <th>396025</th>\n",
              "      <td>60 months</td>\n",
              "      <td>B</td>\n",
              "      <td>B4</td>\n",
              "      <td>RENT</td>\n",
              "      <td>Source Verified</td>\n",
              "      <td>Oct-2015</td>\n",
              "      <td>Fully Paid</td>\n",
              "      <td>debt_consolidation</td>\n",
              "      <td>Nov-2004</td>\n",
              "      <td>w</td>\n",
              "      <td>INDIVIDUAL</td>\n",
              "      <td>12951 Williams Crossing\\nJohnnyville, DC 30723</td>\n",
              "      <td>1</td>\n",
              "    </tr>\n",
              "    <tr>\n",
              "      <th>396026</th>\n",
              "      <td>36 months</td>\n",
              "      <td>C</td>\n",
              "      <td>C1</td>\n",
              "      <td>MORTGAGE</td>\n",
              "      <td>Source Verified</td>\n",
              "      <td>Feb-2015</td>\n",
              "      <td>Fully Paid</td>\n",
              "      <td>debt_consolidation</td>\n",
              "      <td>Feb-2006</td>\n",
              "      <td>f</td>\n",
              "      <td>INDIVIDUAL</td>\n",
              "      <td>0114 Fowler Field Suite 028\\nRachelborough, LA...</td>\n",
              "      <td>1</td>\n",
              "    </tr>\n",
              "    <tr>\n",
              "      <th>396027</th>\n",
              "      <td>36 months</td>\n",
              "      <td>B</td>\n",
              "      <td>B1</td>\n",
              "      <td>RENT</td>\n",
              "      <td>Verified</td>\n",
              "      <td>Oct-2013</td>\n",
              "      <td>Fully Paid</td>\n",
              "      <td>debt_consolidation</td>\n",
              "      <td>Mar-1997</td>\n",
              "      <td>f</td>\n",
              "      <td>INDIVIDUAL</td>\n",
              "      <td>953 Matthew Points Suite 414\\nReedfort, NY 70466</td>\n",
              "      <td>1</td>\n",
              "    </tr>\n",
              "    <tr>\n",
              "      <th>396028</th>\n",
              "      <td>60 months</td>\n",
              "      <td>C</td>\n",
              "      <td>C2</td>\n",
              "      <td>MORTGAGE</td>\n",
              "      <td>Verified</td>\n",
              "      <td>Aug-2012</td>\n",
              "      <td>Fully Paid</td>\n",
              "      <td>debt_consolidation</td>\n",
              "      <td>Nov-1990</td>\n",
              "      <td>f</td>\n",
              "      <td>INDIVIDUAL</td>\n",
              "      <td>7843 Blake Freeway Apt. 229\\nNew Michael, FL 2...</td>\n",
              "      <td>1</td>\n",
              "    </tr>\n",
              "    <tr>\n",
              "      <th>396029</th>\n",
              "      <td>36 months</td>\n",
              "      <td>C</td>\n",
              "      <td>C2</td>\n",
              "      <td>RENT</td>\n",
              "      <td>Verified</td>\n",
              "      <td>Jun-2010</td>\n",
              "      <td>Fully Paid</td>\n",
              "      <td>debt_consolidation</td>\n",
              "      <td>Sep-1998</td>\n",
              "      <td>f</td>\n",
              "      <td>INDIVIDUAL</td>\n",
              "      <td>787 Michelle Causeway\\nBriannaton, AR 48052</td>\n",
              "      <td>1</td>\n",
              "    </tr>\n",
              "  </tbody>\n",
              "</table>\n",
              "<p>395219 rows × 13 columns</p>\n",
              "</div>"
            ],
            "text/plain": [
              "              term  ... loan_repaid\n",
              "0        36 months  ...           1\n",
              "1        36 months  ...           1\n",
              "2        36 months  ...           1\n",
              "3        36 months  ...           1\n",
              "4        60 months  ...           0\n",
              "...            ...  ...         ...\n",
              "396025   60 months  ...           1\n",
              "396026   36 months  ...           1\n",
              "396027   36 months  ...           1\n",
              "396028   60 months  ...           1\n",
              "396029   36 months  ...           1\n",
              "\n",
              "[395219 rows x 13 columns]"
            ]
          },
          "metadata": {
            "tags": []
          },
          "execution_count": 65
        }
      ]
    },
    {
      "cell_type": "code",
      "metadata": {
        "id": "wSAChxOFv5P0",
        "colab": {
          "base_uri": "https://localhost:8080/"
        },
        "outputId": "35ab8786-4401-490d-fed6-2315cc1e7c88"
      },
      "source": [
        "df['term'].value_counts()"
      ],
      "execution_count": null,
      "outputs": [
        {
          "output_type": "execute_result",
          "data": {
            "text/plain": [
              " 36 months    301247\n",
              " 60 months     93972\n",
              "Name: term, dtype: int64"
            ]
          },
          "metadata": {
            "tags": []
          },
          "execution_count": 66
        }
      ]
    },
    {
      "cell_type": "code",
      "metadata": {
        "id": "txfUNFIiv-ng"
      },
      "source": [
        "df['term'] = df.term.str.replace(' months','').astype(int)"
      ],
      "execution_count": null,
      "outputs": []
    },
    {
      "cell_type": "code",
      "metadata": {
        "id": "UgngkACLwH5C",
        "colab": {
          "base_uri": "https://localhost:8080/"
        },
        "outputId": "8a8d83ed-49aa-41f2-f398-d51bfaca5bad"
      },
      "source": [
        "df['term']"
      ],
      "execution_count": null,
      "outputs": [
        {
          "output_type": "execute_result",
          "data": {
            "text/plain": [
              "0         36\n",
              "1         36\n",
              "2         36\n",
              "3         36\n",
              "4         60\n",
              "          ..\n",
              "396025    60\n",
              "396026    36\n",
              "396027    36\n",
              "396028    60\n",
              "396029    36\n",
              "Name: term, Length: 395219, dtype: int64"
            ]
          },
          "metadata": {
            "tags": []
          },
          "execution_count": 68
        }
      ]
    },
    {
      "cell_type": "code",
      "metadata": {
        "id": "IKJOYCo1wLO7"
      },
      "source": [
        "df = df.drop('grade',axis=1)"
      ],
      "execution_count": null,
      "outputs": []
    },
    {
      "cell_type": "code",
      "metadata": {
        "id": "WsNwmDpawT3t",
        "colab": {
          "base_uri": "https://localhost:8080/"
        },
        "outputId": "34937f2d-68b2-4f3a-caba-a4aa96c447f3"
      },
      "source": [
        "df.info()"
      ],
      "execution_count": null,
      "outputs": [
        {
          "output_type": "stream",
          "text": [
            "<class 'pandas.core.frame.DataFrame'>\n",
            "Int64Index: 395219 entries, 0 to 396029\n",
            "Data columns (total 24 columns):\n",
            " #   Column                Non-Null Count   Dtype  \n",
            "---  ------                --------------   -----  \n",
            " 0   loan_amnt             395219 non-null  float64\n",
            " 1   term                  395219 non-null  int64  \n",
            " 2   int_rate              395219 non-null  float64\n",
            " 3   installment           395219 non-null  float64\n",
            " 4   sub_grade             395219 non-null  object \n",
            " 5   home_ownership        395219 non-null  object \n",
            " 6   annual_inc            395219 non-null  float64\n",
            " 7   verification_status   395219 non-null  object \n",
            " 8   issue_d               395219 non-null  object \n",
            " 9   loan_status           395219 non-null  object \n",
            " 10  purpose               395219 non-null  object \n",
            " 11  dti                   395219 non-null  float64\n",
            " 12  earliest_cr_line      395219 non-null  object \n",
            " 13  open_acc              395219 non-null  float64\n",
            " 14  pub_rec               395219 non-null  float64\n",
            " 15  revol_bal             395219 non-null  float64\n",
            " 16  revol_util            395219 non-null  float64\n",
            " 17  total_acc             395219 non-null  float64\n",
            " 18  initial_list_status   395219 non-null  object \n",
            " 19  application_type      395219 non-null  object \n",
            " 20  mort_acc              395219 non-null  float64\n",
            " 21  pub_rec_bankruptcies  395219 non-null  float64\n",
            " 22  address               395219 non-null  object \n",
            " 23  loan_repaid           395219 non-null  int64  \n",
            "dtypes: float64(12), int64(2), object(10)\n",
            "memory usage: 75.4+ MB\n"
          ],
          "name": "stdout"
        }
      ]
    },
    {
      "cell_type": "code",
      "metadata": {
        "id": "qQHzXQ9swV_6"
      },
      "source": [
        "subgrade_dummies = pd.get_dummies(df['sub_grade'], drop_first = True)"
      ],
      "execution_count": null,
      "outputs": []
    },
    {
      "cell_type": "code",
      "metadata": {
        "id": "3f4mBNJSwez0"
      },
      "source": [
        "df = pd.concat([df.drop(\"sub_grade\",axis=1),subgrade_dummies],axis=1)"
      ],
      "execution_count": null,
      "outputs": []
    },
    {
      "cell_type": "code",
      "metadata": {
        "id": "kOs8L-ktwgaL"
      },
      "source": [
        "more_dummies = pd.get_dummies(df[['verification_status', 'application_type','initial_list_status','purpose']],drop_first = True)\n",
        "df = df.drop(['verification_status', 'application_type','initial_list_status','purpose'],axis=1)\n",
        "df = pd.concat([df,more_dummies],axis=1)"
      ],
      "execution_count": null,
      "outputs": []
    },
    {
      "cell_type": "code",
      "metadata": {
        "id": "RrIDJybdwnvm"
      },
      "source": [
        "df['home_ownership'] = df['home_ownership'].replace('NONE', 'OTHER')\n",
        "dum_own = pd.get_dummies(df['home_ownership'], drop_first = True)\n",
        "df = df.drop('home_ownership', axis=1)\n",
        "df = pd.concat([df,dum_own],axis=1)"
      ],
      "execution_count": null,
      "outputs": []
    },
    {
      "cell_type": "code",
      "metadata": {
        "id": "6n_GKs-Dw81b",
        "colab": {
          "base_uri": "https://localhost:8080/"
        },
        "outputId": "ca5fa8e4-42b5-4b10-d308-a9e629afaf3c"
      },
      "source": [
        "df['address']"
      ],
      "execution_count": null,
      "outputs": [
        {
          "output_type": "execute_result",
          "data": {
            "text/plain": [
              "0              0174 Michelle Gateway\\nMendozaberg, OK 22690\n",
              "1           1076 Carney Fort Apt. 347\\nLoganmouth, SD 05113\n",
              "2           87025 Mark Dale Apt. 269\\nNew Sabrina, WV 05113\n",
              "3                     823 Reid Ford\\nDelacruzside, MA 00813\n",
              "4                      679 Luna Roads\\nGreggshire, VA 11650\n",
              "                                ...                        \n",
              "396025       12951 Williams Crossing\\nJohnnyville, DC 30723\n",
              "396026    0114 Fowler Field Suite 028\\nRachelborough, LA...\n",
              "396027     953 Matthew Points Suite 414\\nReedfort, NY 70466\n",
              "396028    7843 Blake Freeway Apt. 229\\nNew Michael, FL 2...\n",
              "396029          787 Michelle Causeway\\nBriannaton, AR 48052\n",
              "Name: address, Length: 395219, dtype: object"
            ]
          },
          "metadata": {
            "tags": []
          },
          "execution_count": 75
        }
      ]
    },
    {
      "cell_type": "code",
      "metadata": {
        "id": "znuDkQX6xAlt"
      },
      "source": [
        "df['zip_code'] = df['address'].apply(lambda x: int(x[-5:]))"
      ],
      "execution_count": null,
      "outputs": []
    },
    {
      "cell_type": "code",
      "metadata": {
        "id": "OXWoli50xsa2"
      },
      "source": [
        "zip_dum = pd.get_dummies('zip_code', drop_first = True)\n",
        "df = df.drop(['zip_code', 'address'],axis=1)\n",
        "df = pd.concat([df,zip_dum],axis=1)"
      ],
      "execution_count": null,
      "outputs": []
    },
    {
      "cell_type": "code",
      "metadata": {
        "id": "O7KRQd8Hxy5J"
      },
      "source": [
        "df = df.drop('issue_d', axis=1)"
      ],
      "execution_count": null,
      "outputs": []
    },
    {
      "cell_type": "code",
      "metadata": {
        "id": "0QjW-J0Cx4Lb"
      },
      "source": [
        "df['earliest_cr_year'] = df['earliest_cr_line'].apply(lambda x: int(x[-4:]))\n",
        "df = df.drop('earliest_cr_line', axis=1)"
      ],
      "execution_count": null,
      "outputs": []
    },
    {
      "cell_type": "code",
      "metadata": {
        "id": "X-_WHe4Ix7Hq",
        "colab": {
          "base_uri": "https://localhost:8080/"
        },
        "outputId": "43abc440-e1e1-4fb3-ed42-ec45bb0375d8"
      },
      "source": [
        "df.select_dtypes(['object']).columns"
      ],
      "execution_count": null,
      "outputs": [
        {
          "output_type": "execute_result",
          "data": {
            "text/plain": [
              "Index(['loan_status'], dtype='object')"
            ]
          },
          "metadata": {
            "tags": []
          },
          "execution_count": 80
        }
      ]
    },
    {
      "cell_type": "code",
      "metadata": {
        "id": "qFctZcnix84i"
      },
      "source": [
        "from sklearn.model_selection import train_test_split"
      ],
      "execution_count": null,
      "outputs": []
    },
    {
      "cell_type": "code",
      "metadata": {
        "id": "7XJ2C44VyASb"
      },
      "source": [
        "df = df.drop('loan_status',axis=1)"
      ],
      "execution_count": null,
      "outputs": []
    },
    {
      "cell_type": "code",
      "metadata": {
        "id": "OHSAi0sVyCLB"
      },
      "source": [
        "X = df.drop('loan_repaid',axis=1).values\n",
        "y = df['loan_repaid'].values"
      ],
      "execution_count": null,
      "outputs": []
    },
    {
      "cell_type": "code",
      "metadata": {
        "id": "Es-5s_m1yGTr"
      },
      "source": [
        "import tensorflow as tf\n",
        "from tensorflow.keras.models import Sequential\n",
        "from tensorflow.keras.layers import Dense,Dropout"
      ],
      "execution_count": null,
      "outputs": []
    },
    {
      "cell_type": "code",
      "metadata": {
        "id": "_BlBCtOxyOPl"
      },
      "source": [
        "model = Sequential()\n",
        "model.add(Dense(78, activation='relu'))\n",
        "model.add(Dropout(0.2))\n",
        "\n",
        "model.add(Dense(39, activation='relu'))\n",
        "model.add(Dropout(0.2))\n",
        "\n",
        "model.add(Dense(19, activation='relu'))\n",
        "model.add(Dropout(0.2))\n",
        "\n",
        "model.add(Dense(units=1, activation='sigmoid'))\n",
        "\n",
        "model.compile(loss='binary_crossentropy', optimizer='adam')"
      ],
      "execution_count": null,
      "outputs": []
    },
    {
      "cell_type": "code",
      "metadata": {
        "id": "RKjfjTSH48Gn"
      },
      "source": [
        "from tensorflow.keras.callbacks import EarlyStopping"
      ],
      "execution_count": null,
      "outputs": []
    },
    {
      "cell_type": "code",
      "metadata": {
        "id": "msK_lNUU49fd"
      },
      "source": [
        "early_stop = EarlyStopping(monitor='val_loss', mode='min', verbose=1, patience=25)"
      ],
      "execution_count": null,
      "outputs": []
    },
    {
      "cell_type": "code",
      "metadata": {
        "id": "cY1vIZNg5YL3"
      },
      "source": [
        "X_train, X_test, y_train, y_test = train_test_split(X, y, test_size=0.2, random_state=101)"
      ],
      "execution_count": null,
      "outputs": []
    },
    {
      "cell_type": "code",
      "metadata": {
        "id": "zta6ezGJ5g_N"
      },
      "source": [
        "from sklearn.preprocessing import MinMaxScaler"
      ],
      "execution_count": null,
      "outputs": []
    },
    {
      "cell_type": "code",
      "metadata": {
        "id": "MALvAkCL5jj-"
      },
      "source": [
        "scaler = MinMaxScaler()\n",
        "X_train = scaler.fit_transform(X_train)\n",
        "X_test = scaler.transform(X_test)"
      ],
      "execution_count": null,
      "outputs": []
    },
    {
      "cell_type": "code",
      "metadata": {
        "id": "uBFdcsYY5Ch9",
        "colab": {
          "base_uri": "https://localhost:8080/"
        },
        "outputId": "2516885e-9854-48c2-8002-f85d04429414"
      },
      "source": [
        "import imblearn\n",
        "from imblearn.over_sampling import RandomOverSampler"
      ],
      "execution_count": null,
      "outputs": [
        {
          "output_type": "stream",
          "text": [
            "/usr/local/lib/python3.6/dist-packages/sklearn/externals/six.py:31: FutureWarning: The module is deprecated in version 0.21 and will be removed in version 0.23 since we've dropped support for Python 2.7. Please rely on the official version of six (https://pypi.org/project/six/).\n",
            "  \"(https://pypi.org/project/six/).\", FutureWarning)\n",
            "/usr/local/lib/python3.6/dist-packages/sklearn/utils/deprecation.py:144: FutureWarning: The sklearn.neighbors.base module is  deprecated in version 0.22 and will be removed in version 0.24. The corresponding classes / functions should instead be imported from sklearn.neighbors. Anything that cannot be imported from sklearn.neighbors is now part of the private API.\n",
            "  warnings.warn(message, FutureWarning)\n"
          ],
          "name": "stderr"
        }
      ]
    },
    {
      "cell_type": "code",
      "metadata": {
        "id": "2J_1OMwJ5KwC",
        "colab": {
          "base_uri": "https://localhost:8080/"
        },
        "outputId": "4049ae95-e84b-47d1-e997-feffdf5844a7"
      },
      "source": [
        "oversample = RandomOverSampler(sampling_strategy='minority')\n",
        "X_over, y_over = oversample.fit_resample(X_train, y_train)"
      ],
      "execution_count": null,
      "outputs": [
        {
          "output_type": "stream",
          "text": [
            "/usr/local/lib/python3.6/dist-packages/sklearn/utils/deprecation.py:87: FutureWarning: Function safe_indexing is deprecated; safe_indexing is deprecated in version 0.22 and will be removed in version 0.24.\n",
            "  warnings.warn(msg, category=FutureWarning)\n"
          ],
          "name": "stderr"
        }
      ]
    },
    {
      "cell_type": "code",
      "metadata": {
        "id": "kcrujNU15M2U",
        "colab": {
          "base_uri": "https://localhost:8080/"
        },
        "outputId": "99ad6962-6207-4453-9c2c-e554a39ea020"
      },
      "source": [
        "model.fit(\n",
        "    x = X_over,\n",
        "    y= y_over,\n",
        "    epochs = 600,\n",
        "    batch_size = 256,\n",
        "    validation_data = (X_test, y_test),\n",
        "    callbacks=[early_stop],\n",
        "    verbose=1,\n",
        ")"
      ],
      "execution_count": null,
      "outputs": [
        {
          "output_type": "stream",
          "text": [
            "Epoch 1/600\n",
            "1987/1987 [==============================] - 5s 3ms/step - loss: 0.6400 - val_loss: 0.6293\n",
            "Epoch 2/600\n",
            "1987/1987 [==============================] - 5s 3ms/step - loss: 0.6324 - val_loss: 0.6311\n",
            "Epoch 3/600\n",
            "1987/1987 [==============================] - 5s 3ms/step - loss: 0.6294 - val_loss: 0.6341\n",
            "Epoch 4/600\n",
            "1987/1987 [==============================] - 5s 3ms/step - loss: 0.6276 - val_loss: 0.6192\n",
            "Epoch 5/600\n",
            "1987/1987 [==============================] - 5s 3ms/step - loss: 0.6261 - val_loss: 0.6147\n",
            "Epoch 6/600\n",
            "1987/1987 [==============================] - 5s 3ms/step - loss: 0.6250 - val_loss: 0.6112\n",
            "Epoch 7/600\n",
            "1987/1987 [==============================] - 5s 2ms/step - loss: 0.6239 - val_loss: 0.6152\n",
            "Epoch 8/600\n",
            "1987/1987 [==============================] - 5s 3ms/step - loss: 0.6227 - val_loss: 0.6489\n",
            "Epoch 9/600\n",
            "1987/1987 [==============================] - 5s 3ms/step - loss: 0.6219 - val_loss: 0.6218\n",
            "Epoch 10/600\n",
            "1987/1987 [==============================] - 5s 2ms/step - loss: 0.6209 - val_loss: 0.6405\n",
            "Epoch 11/600\n",
            "1987/1987 [==============================] - 5s 3ms/step - loss: 0.6200 - val_loss: 0.6091\n",
            "Epoch 12/600\n",
            "1987/1987 [==============================] - 5s 3ms/step - loss: 0.6192 - val_loss: 0.6040\n",
            "Epoch 13/600\n",
            "1987/1987 [==============================] - 5s 2ms/step - loss: 0.6184 - val_loss: 0.6159\n",
            "Epoch 14/600\n",
            "1987/1987 [==============================] - 5s 2ms/step - loss: 0.6178 - val_loss: 0.6468\n",
            "Epoch 15/600\n",
            "1987/1987 [==============================] - 5s 3ms/step - loss: 0.6174 - val_loss: 0.6348\n",
            "Epoch 16/600\n",
            "1987/1987 [==============================] - 5s 2ms/step - loss: 0.6168 - val_loss: 0.6046\n",
            "Epoch 17/600\n",
            "1987/1987 [==============================] - 5s 2ms/step - loss: 0.6165 - val_loss: 0.6113\n",
            "Epoch 18/600\n",
            "1987/1987 [==============================] - 5s 3ms/step - loss: 0.6162 - val_loss: 0.6148\n",
            "Epoch 19/600\n",
            "1987/1987 [==============================] - 5s 2ms/step - loss: 0.6160 - val_loss: 0.6173\n",
            "Epoch 20/600\n",
            "1987/1987 [==============================] - 5s 2ms/step - loss: 0.6155 - val_loss: 0.6431\n",
            "Epoch 21/600\n",
            "1987/1987 [==============================] - 5s 2ms/step - loss: 0.6149 - val_loss: 0.5975\n",
            "Epoch 22/600\n",
            "1987/1987 [==============================] - 5s 2ms/step - loss: 0.6148 - val_loss: 0.6192\n",
            "Epoch 23/600\n",
            "1987/1987 [==============================] - 5s 2ms/step - loss: 0.6144 - val_loss: 0.6181\n",
            "Epoch 24/600\n",
            "1987/1987 [==============================] - 5s 2ms/step - loss: 0.6143 - val_loss: 0.6021\n",
            "Epoch 25/600\n",
            "1987/1987 [==============================] - 5s 2ms/step - loss: 0.6138 - val_loss: 0.6110\n",
            "Epoch 26/600\n",
            "1987/1987 [==============================] - 5s 2ms/step - loss: 0.6133 - val_loss: 0.5916\n",
            "Epoch 27/600\n",
            "1987/1987 [==============================] - 5s 3ms/step - loss: 0.6134 - val_loss: 0.6254\n",
            "Epoch 28/600\n",
            "1987/1987 [==============================] - 5s 2ms/step - loss: 0.6129 - val_loss: 0.6233\n",
            "Epoch 29/600\n",
            "1987/1987 [==============================] - 5s 2ms/step - loss: 0.6128 - val_loss: 0.6157\n",
            "Epoch 30/600\n",
            "1987/1987 [==============================] - 5s 2ms/step - loss: 0.6126 - val_loss: 0.6151\n",
            "Epoch 31/600\n",
            "1987/1987 [==============================] - 5s 2ms/step - loss: 0.6124 - val_loss: 0.6385\n",
            "Epoch 32/600\n",
            "1987/1987 [==============================] - 5s 2ms/step - loss: 0.6123 - val_loss: 0.6356\n",
            "Epoch 33/600\n",
            "1987/1987 [==============================] - 5s 2ms/step - loss: 0.6120 - val_loss: 0.6292\n",
            "Epoch 34/600\n",
            "1987/1987 [==============================] - 5s 3ms/step - loss: 0.6120 - val_loss: 0.6303\n",
            "Epoch 35/600\n",
            "1987/1987 [==============================] - 5s 2ms/step - loss: 0.6120 - val_loss: 0.6139\n",
            "Epoch 36/600\n",
            "1987/1987 [==============================] - 5s 2ms/step - loss: 0.6115 - val_loss: 0.6379\n",
            "Epoch 37/600\n",
            "1987/1987 [==============================] - 5s 3ms/step - loss: 0.6113 - val_loss: 0.6242\n",
            "Epoch 38/600\n",
            "1987/1987 [==============================] - 5s 3ms/step - loss: 0.6111 - val_loss: 0.6132\n",
            "Epoch 39/600\n",
            "1987/1987 [==============================] - 5s 3ms/step - loss: 0.6110 - val_loss: 0.6178\n",
            "Epoch 40/600\n",
            "1987/1987 [==============================] - 5s 2ms/step - loss: 0.6112 - val_loss: 0.5955\n",
            "Epoch 41/600\n",
            "1987/1987 [==============================] - 5s 2ms/step - loss: 0.6103 - val_loss: 0.6087\n",
            "Epoch 42/600\n",
            "1987/1987 [==============================] - 5s 2ms/step - loss: 0.6105 - val_loss: 0.6254\n",
            "Epoch 43/600\n",
            "1987/1987 [==============================] - 5s 2ms/step - loss: 0.6103 - val_loss: 0.6190\n",
            "Epoch 44/600\n",
            "1987/1987 [==============================] - 5s 2ms/step - loss: 0.6104 - val_loss: 0.6351\n",
            "Epoch 45/600\n",
            "1987/1987 [==============================] - 5s 2ms/step - loss: 0.6100 - val_loss: 0.6185\n",
            "Epoch 46/600\n",
            "1987/1987 [==============================] - 5s 3ms/step - loss: 0.6100 - val_loss: 0.6129\n",
            "Epoch 47/600\n",
            "1987/1987 [==============================] - 5s 3ms/step - loss: 0.6095 - val_loss: 0.6106\n",
            "Epoch 48/600\n",
            "1987/1987 [==============================] - 5s 2ms/step - loss: 0.6095 - val_loss: 0.6154\n",
            "Epoch 49/600\n",
            "1987/1987 [==============================] - 5s 3ms/step - loss: 0.6094 - val_loss: 0.6340\n",
            "Epoch 50/600\n",
            "1987/1987 [==============================] - 5s 2ms/step - loss: 0.6095 - val_loss: 0.6113\n",
            "Epoch 51/600\n",
            "1987/1987 [==============================] - 5s 2ms/step - loss: 0.6094 - val_loss: 0.6280\n",
            "Epoch 00051: early stopping\n"
          ],
          "name": "stdout"
        },
        {
          "output_type": "execute_result",
          "data": {
            "text/plain": [
              "<tensorflow.python.keras.callbacks.History at 0x7f153a036ef0>"
            ]
          },
          "metadata": {
            "tags": []
          },
          "execution_count": 93
        }
      ]
    },
    {
      "cell_type": "code",
      "metadata": {
        "id": "LE3S_SkZ52mU"
      },
      "source": [
        "history = model.history"
      ],
      "execution_count": null,
      "outputs": []
    },
    {
      "cell_type": "code",
      "metadata": {
        "id": "Jy4AGi767TIk"
      },
      "source": [
        "from sklearn.metrics import confusion_matrix, classification_report"
      ],
      "execution_count": null,
      "outputs": []
    },
    {
      "cell_type": "code",
      "metadata": {
        "id": "oNX_GwKo7g-f",
        "colab": {
          "base_uri": "https://localhost:8080/"
        },
        "outputId": "51295b51-f1cc-4f34-a2cb-29d7a9abb1df"
      },
      "source": [
        "predictions = model.predict_classes(X_test)"
      ],
      "execution_count": null,
      "outputs": [
        {
          "output_type": "stream",
          "text": [
            "WARNING:tensorflow:From <ipython-input-100-bc83193b8b59>:1: Sequential.predict_classes (from tensorflow.python.keras.engine.sequential) is deprecated and will be removed after 2021-01-01.\n",
            "Instructions for updating:\n",
            "Please use instead:* `np.argmax(model.predict(x), axis=-1)`,   if your model does multi-class classification   (e.g. if it uses a `softmax` last-layer activation).* `(model.predict(x) > 0.5).astype(\"int32\")`,   if your model does binary classification   (e.g. if it uses a `sigmoid` last-layer activation).\n"
          ],
          "name": "stdout"
        }
      ]
    },
    {
      "cell_type": "code",
      "metadata": {
        "id": "j9yhH_Vd7uhE",
        "colab": {
          "base_uri": "https://localhost:8080/"
        },
        "outputId": "a26f8e88-9e53-4c7d-ee94-1219eb1dcb8c"
      },
      "source": [
        "print(classification_report(y_test,predictions))"
      ],
      "execution_count": null,
      "outputs": [
        {
          "output_type": "stream",
          "text": [
            "              precision    recall  f1-score   support\n",
            "\n",
            "           0       0.31      0.69      0.43     15658\n",
            "           1       0.89      0.62      0.73     63386\n",
            "\n",
            "    accuracy                           0.63     79044\n",
            "   macro avg       0.60      0.65      0.58     79044\n",
            "weighted avg       0.77      0.63      0.67     79044\n",
            "\n"
          ],
          "name": "stdout"
        }
      ]
    },
    {
      "cell_type": "code",
      "metadata": {
        "id": "q0jAxG7h7xcu",
        "colab": {
          "base_uri": "https://localhost:8080/"
        },
        "outputId": "2355ae30-2db8-4cf9-ec21-ef683e239e7c"
      },
      "source": [
        "m1 = model.fit(\n",
        "    x = X_train,\n",
        "    y= y_train,\n",
        "    epochs = 600,\n",
        "    batch_size = 256,\n",
        "    validation_data = (X_test, y_test),\n",
        "    callbacks=[early_stop],\n",
        "    verbose=1,\n",
        ")"
      ],
      "execution_count": null,
      "outputs": [
        {
          "output_type": "stream",
          "text": [
            "Epoch 1/600\n",
            "1236/1236 [==============================] - 3s 3ms/step - loss: 0.4509 - val_loss: 0.4538\n",
            "Epoch 2/600\n",
            "1236/1236 [==============================] - 3s 3ms/step - loss: 0.4466 - val_loss: 0.4533\n",
            "Epoch 3/600\n",
            "1236/1236 [==============================] - 3s 3ms/step - loss: 0.4456 - val_loss: 0.4524\n",
            "Epoch 4/600\n",
            "1236/1236 [==============================] - 3s 3ms/step - loss: 0.4448 - val_loss: 0.4524\n",
            "Epoch 5/600\n",
            "1236/1236 [==============================] - 4s 3ms/step - loss: 0.4445 - val_loss: 0.4521\n",
            "Epoch 6/600\n",
            "1236/1236 [==============================] - 3s 3ms/step - loss: 0.4442 - val_loss: 0.4527\n",
            "Epoch 7/600\n",
            "1236/1236 [==============================] - 3s 3ms/step - loss: 0.4437 - val_loss: 0.4529\n",
            "Epoch 8/600\n",
            "1236/1236 [==============================] - 3s 3ms/step - loss: 0.4438 - val_loss: 0.4529\n",
            "Epoch 9/600\n",
            "1236/1236 [==============================] - 3s 3ms/step - loss: 0.4436 - val_loss: 0.4531\n",
            "Epoch 10/600\n",
            "1236/1236 [==============================] - 3s 3ms/step - loss: 0.4438 - val_loss: 0.4530\n",
            "Epoch 11/600\n",
            "1236/1236 [==============================] - 3s 3ms/step - loss: 0.4437 - val_loss: 0.4523\n",
            "Epoch 12/600\n",
            "1236/1236 [==============================] - 3s 3ms/step - loss: 0.4440 - val_loss: 0.4527\n",
            "Epoch 13/600\n",
            "1236/1236 [==============================] - 3s 3ms/step - loss: 0.4435 - val_loss: 0.4525\n",
            "Epoch 14/600\n",
            "1236/1236 [==============================] - 3s 3ms/step - loss: 0.4436 - val_loss: 0.4525\n",
            "Epoch 15/600\n",
            "1236/1236 [==============================] - 3s 3ms/step - loss: 0.4439 - val_loss: 0.4528\n",
            "Epoch 16/600\n",
            "1236/1236 [==============================] - 3s 3ms/step - loss: 0.4439 - val_loss: 0.4521\n",
            "Epoch 17/600\n",
            "1236/1236 [==============================] - 3s 3ms/step - loss: 0.4435 - val_loss: 0.4522\n",
            "Epoch 18/600\n",
            "1236/1236 [==============================] - 3s 3ms/step - loss: 0.4432 - val_loss: 0.4531\n",
            "Epoch 19/600\n",
            "1236/1236 [==============================] - 3s 3ms/step - loss: 0.4434 - val_loss: 0.4527\n",
            "Epoch 20/600\n",
            "1236/1236 [==============================] - 3s 3ms/step - loss: 0.4434 - val_loss: 0.4522\n",
            "Epoch 21/600\n",
            "1236/1236 [==============================] - 3s 3ms/step - loss: 0.4434 - val_loss: 0.4522\n",
            "Epoch 22/600\n",
            "1236/1236 [==============================] - 3s 3ms/step - loss: 0.4430 - val_loss: 0.4523\n",
            "Epoch 23/600\n",
            "1236/1236 [==============================] - 3s 3ms/step - loss: 0.4431 - val_loss: 0.4524\n",
            "Epoch 24/600\n",
            "1236/1236 [==============================] - 3s 3ms/step - loss: 0.4429 - val_loss: 0.4522\n",
            "Epoch 25/600\n",
            "1236/1236 [==============================] - 3s 3ms/step - loss: 0.4434 - val_loss: 0.4525\n",
            "Epoch 26/600\n",
            "1236/1236 [==============================] - 3s 3ms/step - loss: 0.4433 - val_loss: 0.4523\n",
            "Epoch 27/600\n",
            "1236/1236 [==============================] - 3s 3ms/step - loss: 0.4434 - val_loss: 0.4525\n",
            "Epoch 28/600\n",
            "1236/1236 [==============================] - 3s 3ms/step - loss: 0.4430 - val_loss: 0.4528\n",
            "Epoch 29/600\n",
            "1236/1236 [==============================] - 3s 3ms/step - loss: 0.4431 - val_loss: 0.4522\n",
            "Epoch 30/600\n",
            "1236/1236 [==============================] - 3s 3ms/step - loss: 0.4429 - val_loss: 0.4526\n",
            "Epoch 31/600\n",
            "1236/1236 [==============================] - 3s 3ms/step - loss: 0.4432 - val_loss: 0.4519\n",
            "Epoch 32/600\n",
            "1236/1236 [==============================] - 3s 3ms/step - loss: 0.4431 - val_loss: 0.4525\n",
            "Epoch 33/600\n",
            "1236/1236 [==============================] - 4s 3ms/step - loss: 0.4429 - val_loss: 0.4520\n",
            "Epoch 34/600\n",
            "1236/1236 [==============================] - 3s 3ms/step - loss: 0.4430 - val_loss: 0.4522\n",
            "Epoch 35/600\n",
            "1236/1236 [==============================] - 3s 3ms/step - loss: 0.4428 - val_loss: 0.4523\n",
            "Epoch 36/600\n",
            "1236/1236 [==============================] - 3s 2ms/step - loss: 0.4430 - val_loss: 0.4535\n",
            "Epoch 37/600\n",
            "1236/1236 [==============================] - 3s 3ms/step - loss: 0.4428 - val_loss: 0.4530\n",
            "Epoch 38/600\n",
            "1236/1236 [==============================] - 3s 3ms/step - loss: 0.4430 - val_loss: 0.4525\n",
            "Epoch 39/600\n",
            "1236/1236 [==============================] - 3s 3ms/step - loss: 0.4429 - val_loss: 0.4525\n",
            "Epoch 40/600\n",
            "1236/1236 [==============================] - 3s 3ms/step - loss: 0.4428 - val_loss: 0.4520\n",
            "Epoch 41/600\n",
            "1236/1236 [==============================] - 3s 3ms/step - loss: 0.4428 - val_loss: 0.4523\n",
            "Epoch 42/600\n",
            "1236/1236 [==============================] - 3s 3ms/step - loss: 0.4428 - val_loss: 0.4526\n",
            "Epoch 43/600\n",
            "1236/1236 [==============================] - 3s 3ms/step - loss: 0.4426 - val_loss: 0.4537\n",
            "Epoch 44/600\n",
            "1236/1236 [==============================] - 3s 3ms/step - loss: 0.4427 - val_loss: 0.4524\n",
            "Epoch 45/600\n",
            "1236/1236 [==============================] - 3s 3ms/step - loss: 0.4425 - val_loss: 0.4522\n",
            "Epoch 46/600\n",
            "1236/1236 [==============================] - 3s 2ms/step - loss: 0.4427 - val_loss: 0.4525\n",
            "Epoch 47/600\n",
            "1236/1236 [==============================] - 3s 3ms/step - loss: 0.4427 - val_loss: 0.4524\n",
            "Epoch 48/600\n",
            "1236/1236 [==============================] - 3s 3ms/step - loss: 0.4428 - val_loss: 0.4525\n",
            "Epoch 49/600\n",
            "1236/1236 [==============================] - 3s 3ms/step - loss: 0.4426 - val_loss: 0.4525\n",
            "Epoch 50/600\n",
            "1236/1236 [==============================] - 3s 3ms/step - loss: 0.4426 - val_loss: 0.4532\n",
            "Epoch 51/600\n",
            "1236/1236 [==============================] - 3s 3ms/step - loss: 0.4426 - val_loss: 0.4524\n",
            "Epoch 52/600\n",
            "1236/1236 [==============================] - 3s 3ms/step - loss: 0.4424 - val_loss: 0.4522\n",
            "Epoch 53/600\n",
            "1236/1236 [==============================] - 3s 3ms/step - loss: 0.4423 - val_loss: 0.4529\n",
            "Epoch 54/600\n",
            "1236/1236 [==============================] - 3s 3ms/step - loss: 0.4422 - val_loss: 0.4520\n",
            "Epoch 55/600\n",
            "1236/1236 [==============================] - 3s 2ms/step - loss: 0.4427 - val_loss: 0.4528\n",
            "Epoch 56/600\n",
            "1236/1236 [==============================] - 3s 3ms/step - loss: 0.4425 - val_loss: 0.4523\n",
            "Epoch 00056: early stopping\n"
          ],
          "name": "stdout"
        }
      ]
    },
    {
      "cell_type": "code",
      "metadata": {
        "id": "IWYgRyuB8L62"
      },
      "source": [
        "predictions_1 = model.predict_classes(X_test)"
      ],
      "execution_count": null,
      "outputs": []
    },
    {
      "cell_type": "code",
      "metadata": {
        "id": "5wiu21N19D-L",
        "colab": {
          "base_uri": "https://localhost:8080/"
        },
        "outputId": "f3b532e3-6f29-4aee-e548-c3367d02a91c"
      },
      "source": [
        "print(classification_report(y_test,predictions_1))"
      ],
      "execution_count": null,
      "outputs": [
        {
          "output_type": "stream",
          "text": [
            "              precision    recall  f1-score   support\n",
            "\n",
            "           0       0.57      0.06      0.11     15658\n",
            "           1       0.81      0.99      0.89     63386\n",
            "\n",
            "    accuracy                           0.80     79044\n",
            "   macro avg       0.69      0.52      0.50     79044\n",
            "weighted avg       0.76      0.80      0.74     79044\n",
            "\n"
          ],
          "name": "stdout"
        }
      ]
    },
    {
      "cell_type": "code",
      "metadata": {
        "id": "tKDnTM5s9oSt"
      },
      "source": [
        "from sklearn.ensemble import RandomForestClassifier"
      ],
      "execution_count": null,
      "outputs": []
    },
    {
      "cell_type": "code",
      "metadata": {
        "id": "bE4wurGK9RIh",
        "colab": {
          "base_uri": "https://localhost:8080/"
        },
        "outputId": "0d765004-aa47-43cf-ec75-4642f7e5a0eb"
      },
      "source": [
        "clf = RandomForestClassifier(max_depth=2, random_state=0)\n",
        "clf.fit(X_train, y_train)"
      ],
      "execution_count": null,
      "outputs": [
        {
          "output_type": "execute_result",
          "data": {
            "text/plain": [
              "RandomForestClassifier(bootstrap=True, ccp_alpha=0.0, class_weight=None,\n",
              "                       criterion='gini', max_depth=2, max_features='auto',\n",
              "                       max_leaf_nodes=None, max_samples=None,\n",
              "                       min_impurity_decrease=0.0, min_impurity_split=None,\n",
              "                       min_samples_leaf=1, min_samples_split=2,\n",
              "                       min_weight_fraction_leaf=0.0, n_estimators=100,\n",
              "                       n_jobs=None, oob_score=False, random_state=0, verbose=0,\n",
              "                       warm_start=False)"
            ]
          },
          "metadata": {
            "tags": []
          },
          "execution_count": 107
        }
      ]
    },
    {
      "cell_type": "code",
      "metadata": {
        "id": "LlQYrKNl9pIV"
      },
      "source": [
        "predictions_2 = clf.predict(X_test)"
      ],
      "execution_count": null,
      "outputs": []
    },
    {
      "cell_type": "code",
      "metadata": {
        "id": "jxoJQL1e9tIJ",
        "colab": {
          "base_uri": "https://localhost:8080/"
        },
        "outputId": "bec42afd-5882-4de9-84c3-67be7bc6010b"
      },
      "source": [
        "print(classification_report(y_test,predictions_2,zero_division= 1))"
      ],
      "execution_count": null,
      "outputs": [
        {
          "output_type": "stream",
          "text": [
            "              precision    recall  f1-score   support\n",
            "\n",
            "           0       1.00      0.00      0.00     15658\n",
            "           1       0.80      1.00      0.89     63386\n",
            "\n",
            "    accuracy                           0.80     79044\n",
            "   macro avg       0.90      0.50      0.45     79044\n",
            "weighted avg       0.84      0.80      0.71     79044\n",
            "\n"
          ],
          "name": "stdout"
        }
      ]
    },
    {
      "cell_type": "code",
      "metadata": {
        "id": "FxpkQ8iNO3Wg"
      },
      "source": [
        ""
      ],
      "execution_count": null,
      "outputs": []
    },
    {
      "cell_type": "code",
      "metadata": {
        "id": "HMEsDC5R9wJg",
        "colab": {
          "base_uri": "https://localhost:8080/"
        },
        "outputId": "2fa9ec93-6774-4b0a-c1d0-1645c07de517"
      },
      "source": [
        "from sklearn.model_selection import cross_val_score\n",
        "scores = cross_val_score(clf, X_train, y_train, cv=10)\n",
        "scores\n"
      ],
      "execution_count": null,
      "outputs": [
        {
          "output_type": "execute_result",
          "data": {
            "text/plain": [
              "array([0.80432032, 0.80432032, 0.80432032, 0.80432032, 0.80432032,\n",
              "       0.80434576, 0.80434576, 0.80434576, 0.80434576, 0.80434576])"
            ]
          },
          "metadata": {
            "tags": []
          },
          "execution_count": 114
        }
      ]
    },
    {
      "cell_type": "code",
      "metadata": {
        "id": "n46bluuU-QwW",
        "colab": {
          "base_uri": "https://localhost:8080/"
        },
        "outputId": "7f0705a6-e00f-42f0-c3c6-4f614468a693"
      },
      "source": [
        "importances = clf.feature_importances_\n",
        "std = np.std([tree.feature_importances_ for tree in clf.estimators_],\n",
        "             axis=0)\n",
        "indices = np.argsort(importances)[::-1]\n",
        "\n",
        "for feat, importance in zip(df.columns, clf.feature_importances_):\n",
        "    print ('feature: {f}, importance: {i}'.format(f=feat, i=importance))\n"
      ],
      "execution_count": null,
      "outputs": [
        {
          "output_type": "stream",
          "text": [
            "feature: loan_amnt, importance: 0.011052938497906593\n",
            "feature: term, importance: 0.15855648189138602\n",
            "feature: int_rate, importance: 0.28152471262744966\n",
            "feature: installment, importance: 0.0038874057419496515\n",
            "feature: annual_inc, importance: 0.06632911157622645\n",
            "feature: dti, importance: 0.12086299184710683\n",
            "feature: open_acc, importance: 2.061550878867944e-05\n",
            "feature: pub_rec, importance: 1.1999811602895028e-05\n",
            "feature: revol_bal, importance: 0.0\n",
            "feature: revol_util, importance: 0.06193312223953195\n",
            "feature: total_acc, importance: 4.200041120440352e-05\n",
            "feature: mort_acc, importance: 0.03796195585102802\n",
            "feature: pub_rec_bankruptcies, importance: 0.0\n",
            "feature: loan_repaid, importance: 0.016643209386247745\n",
            "feature: A2, importance: 0.0064108719310932314\n",
            "feature: A3, importance: 0.048669211456777904\n",
            "feature: A4, importance: 0.024944584754972365\n",
            "feature: A5, importance: 0.01580509374866468\n",
            "feature: B1, importance: 0.005212103889741143\n",
            "feature: B2, importance: 0.0\n",
            "feature: B3, importance: 0.004995447630694441\n",
            "feature: B4, importance: 0.0\n",
            "feature: B5, importance: 0.00043956061987204017\n",
            "feature: C1, importance: 0.0006915453700222718\n",
            "feature: C2, importance: 0.00044477310427832586\n",
            "feature: C3, importance: 0.0\n",
            "feature: C4, importance: 0.0\n",
            "feature: C5, importance: 0.0002578109679679922\n",
            "feature: D1, importance: 0.0031318948621373117\n",
            "feature: D2, importance: 0.0\n",
            "feature: D3, importance: 0.0019334948339153086\n",
            "feature: D4, importance: 0.005627432287923636\n",
            "feature: D5, importance: 0.009806643663500723\n",
            "feature: E1, importance: 0.028563674252218813\n",
            "feature: E2, importance: 0.018955786526804824\n",
            "feature: E3, importance: 0.009245313743945079\n",
            "feature: E4, importance: 0.022518467939464784\n",
            "feature: E5, importance: 0.0\n",
            "feature: F1, importance: 0.0\n",
            "feature: F2, importance: 0.005315758592918801\n",
            "feature: F3, importance: 0.0\n",
            "feature: F4, importance: 0.0\n",
            "feature: F5, importance: 0.0020500887239529534\n",
            "feature: G1, importance: 0.0\n",
            "feature: G2, importance: 7.656251841796852e-05\n",
            "feature: G3, importance: 0.0\n",
            "feature: G4, importance: 0.0\n",
            "feature: G5, importance: 8.252131750744637e-06\n",
            "feature: verification_status_Source Verified, importance: 0.006295407241566023\n",
            "feature: verification_status_Verified, importance: 3.919775970156334e-05\n",
            "feature: application_type_INDIVIDUAL, importance: 0.0\n",
            "feature: application_type_JOINT, importance: 1.410312075180152e-06\n",
            "feature: initial_list_status_w, importance: 1.052344232723944e-06\n",
            "feature: purpose_credit_card, importance: 0.0\n",
            "feature: purpose_debt_consolidation, importance: 0.0\n",
            "feature: purpose_educational, importance: 0.0\n",
            "feature: purpose_home_improvement, importance: 0.0\n",
            "feature: purpose_house, importance: 0.0\n",
            "feature: purpose_major_purchase, importance: 0.0\n",
            "feature: purpose_medical, importance: 0.0\n",
            "feature: purpose_moving, importance: 6.492218276221708e-05\n",
            "feature: purpose_other, importance: 0.0\n",
            "feature: purpose_renewable_energy, importance: 3.2319973093172088e-06\n",
            "feature: purpose_small_business, importance: 0.0\n",
            "feature: purpose_vacation, importance: 0.0\n",
            "feature: purpose_wedding, importance: 0.0\n",
            "feature: OTHER, importance: 0.0\n",
            "feature: OWN, importance: 0.01921115562356983\n",
            "feature: RENT, importance: 0.00045270359731885426\n"
          ],
          "name": "stdout"
        }
      ]
    },
    {
      "cell_type": "markdown",
      "metadata": {
        "id": "202C6uNUWMGz"
      },
      "source": [
        "The capstone involved the use numerous Data Science techniques to accomplish the main goal. There were various features in the data so, there I made a fucntion that would provide the definition of each feature. This project taught me become more patient when Data has unsual tendencies. The data was also very unbalanced so using undersampling and over sampling techniques was a good idea but it didn't lead to better results. It could be because of the loss of Data when sampling. The Neural network and the random forest were both equally capable models but the neural network did have some success predicting the class with low occurances.   "
      ]
    },
    {
      "cell_type": "code",
      "metadata": {
        "id": "DhaI8sOohHBW"
      },
      "source": [
        ""
      ],
      "execution_count": null,
      "outputs": []
    }
  ]
}